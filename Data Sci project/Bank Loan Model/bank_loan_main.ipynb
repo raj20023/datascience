{
 "cells": [
  {
   "cell_type": "code",
   "execution_count": 1,
   "id": "1e5edd5e",
   "metadata": {},
   "outputs": [],
   "source": [
    "import pandas as pd"
   ]
  },
  {
   "cell_type": "code",
   "execution_count": 2,
   "id": "040ee4bb",
   "metadata": {},
   "outputs": [],
   "source": [
    "dataset=pd.read_excel('Bank_Personal_Loan_Modelling (1).xlsx',sheet_name=1)"
   ]
  },
  {
   "cell_type": "code",
   "execution_count": 3,
   "id": "17570ae5",
   "metadata": {},
   "outputs": [
    {
     "data": {
      "text/plain": [
       "Index(['ID', 'Age', 'Experience', 'Income', 'ZIP Code', 'Family', 'CCAvg',\n",
       "       'Education', 'Mortgage', 'Personal Loan', 'Securities Account',\n",
       "       'CD Account', 'Online', 'CreditCard'],\n",
       "      dtype='object')"
      ]
     },
     "execution_count": 3,
     "metadata": {},
     "output_type": "execute_result"
    }
   ],
   "source": [
    "dataset.columns"
   ]
  },
  {
   "cell_type": "code",
   "execution_count": 4,
   "id": "8d880a1b",
   "metadata": {},
   "outputs": [],
   "source": [
    "dataset1=dataset.drop(['ID','ZIP Code'],axis=1)"
   ]
  },
  {
   "cell_type": "code",
   "execution_count": 5,
   "id": "78d82a7e",
   "metadata": {},
   "outputs": [],
   "source": [
    "dataset2=dataset1.drop_duplicates()"
   ]
  },
  {
   "cell_type": "code",
   "execution_count": 6,
   "id": "b0f68c70",
   "metadata": {},
   "outputs": [],
   "source": [
    "dataset3=dataset2.dropna()"
   ]
  },
  {
   "cell_type": "code",
   "execution_count": 7,
   "id": "ec298794",
   "metadata": {},
   "outputs": [
    {
     "data": {
      "text/plain": [
       "Index(['Age', 'Experience', 'Income', 'Family', 'CCAvg', 'Education',\n",
       "       'Mortgage', 'Personal Loan', 'Securities Account', 'CD Account',\n",
       "       'Online', 'CreditCard'],\n",
       "      dtype='object')"
      ]
     },
     "execution_count": 7,
     "metadata": {},
     "output_type": "execute_result"
    }
   ],
   "source": [
    "dataset3.columns"
   ]
  },
  {
   "cell_type": "code",
   "execution_count": 8,
   "id": "339145cc",
   "metadata": {},
   "outputs": [
    {
     "data": {
      "text/plain": [
       "Age                   45.347704\n",
       "Experience            20.114498\n",
       "Income                73.824544\n",
       "Family                 2.396631\n",
       "CCAvg                  1.940606\n",
       "Education              1.879286\n",
       "Mortgage              56.646080\n",
       "Securities Account     0.104672\n",
       "CD Account             0.060557\n",
       "Online                 0.596150\n",
       "CreditCard             0.294566\n",
       "dtype: float64"
      ]
     },
     "execution_count": 8,
     "metadata": {},
     "output_type": "execute_result"
    }
   ],
   "source": [
    "dataset3[['Age', 'Experience', 'Income', 'Family', 'CCAvg', 'Education',\n",
    "       'Mortgage', 'Securities Account', 'CD Account',\n",
    "       'Online', 'CreditCard']].mean()"
   ]
  },
  {
   "cell_type": "code",
   "execution_count": 9,
   "id": "e10cdae9",
   "metadata": {},
   "outputs": [],
   "source": [
    "BankLoan_yes=dataset3[dataset3['Personal Loan']==1]"
   ]
  },
  {
   "cell_type": "code",
   "execution_count": 10,
   "id": "25ab1d1f",
   "metadata": {},
   "outputs": [
    {
     "data": {
      "text/html": [
       "<div>\n",
       "<style scoped>\n",
       "    .dataframe tbody tr th:only-of-type {\n",
       "        vertical-align: middle;\n",
       "    }\n",
       "\n",
       "    .dataframe tbody tr th {\n",
       "        vertical-align: top;\n",
       "    }\n",
       "\n",
       "    .dataframe thead th {\n",
       "        text-align: right;\n",
       "    }\n",
       "</style>\n",
       "<table border=\"1\" class=\"dataframe\">\n",
       "  <thead>\n",
       "    <tr style=\"text-align: right;\">\n",
       "      <th></th>\n",
       "      <th>Age</th>\n",
       "      <th>Experience</th>\n",
       "      <th>Income</th>\n",
       "      <th>Family</th>\n",
       "      <th>CCAvg</th>\n",
       "      <th>Education</th>\n",
       "      <th>Mortgage</th>\n",
       "      <th>Personal Loan</th>\n",
       "      <th>Securities Account</th>\n",
       "      <th>CD Account</th>\n",
       "      <th>Online</th>\n",
       "      <th>CreditCard</th>\n",
       "    </tr>\n",
       "  </thead>\n",
       "  <tbody>\n",
       "    <tr>\n",
       "      <th>9</th>\n",
       "      <td>34</td>\n",
       "      <td>9</td>\n",
       "      <td>180</td>\n",
       "      <td>1</td>\n",
       "      <td>8.9</td>\n",
       "      <td>3</td>\n",
       "      <td>0</td>\n",
       "      <td>1</td>\n",
       "      <td>0</td>\n",
       "      <td>0</td>\n",
       "      <td>0</td>\n",
       "      <td>0</td>\n",
       "    </tr>\n",
       "    <tr>\n",
       "      <th>16</th>\n",
       "      <td>38</td>\n",
       "      <td>14</td>\n",
       "      <td>130</td>\n",
       "      <td>4</td>\n",
       "      <td>4.7</td>\n",
       "      <td>3</td>\n",
       "      <td>134</td>\n",
       "      <td>1</td>\n",
       "      <td>0</td>\n",
       "      <td>0</td>\n",
       "      <td>0</td>\n",
       "      <td>0</td>\n",
       "    </tr>\n",
       "    <tr>\n",
       "      <th>18</th>\n",
       "      <td>46</td>\n",
       "      <td>21</td>\n",
       "      <td>193</td>\n",
       "      <td>2</td>\n",
       "      <td>8.1</td>\n",
       "      <td>3</td>\n",
       "      <td>0</td>\n",
       "      <td>1</td>\n",
       "      <td>0</td>\n",
       "      <td>0</td>\n",
       "      <td>0</td>\n",
       "      <td>0</td>\n",
       "    </tr>\n",
       "    <tr>\n",
       "      <th>29</th>\n",
       "      <td>38</td>\n",
       "      <td>13</td>\n",
       "      <td>119</td>\n",
       "      <td>1</td>\n",
       "      <td>3.3</td>\n",
       "      <td>2</td>\n",
       "      <td>0</td>\n",
       "      <td>1</td>\n",
       "      <td>0</td>\n",
       "      <td>1</td>\n",
       "      <td>1</td>\n",
       "      <td>1</td>\n",
       "    </tr>\n",
       "    <tr>\n",
       "      <th>38</th>\n",
       "      <td>42</td>\n",
       "      <td>18</td>\n",
       "      <td>141</td>\n",
       "      <td>3</td>\n",
       "      <td>5.0</td>\n",
       "      <td>3</td>\n",
       "      <td>0</td>\n",
       "      <td>1</td>\n",
       "      <td>1</td>\n",
       "      <td>1</td>\n",
       "      <td>1</td>\n",
       "      <td>0</td>\n",
       "    </tr>\n",
       "    <tr>\n",
       "      <th>42</th>\n",
       "      <td>32</td>\n",
       "      <td>7</td>\n",
       "      <td>132</td>\n",
       "      <td>4</td>\n",
       "      <td>1.1</td>\n",
       "      <td>2</td>\n",
       "      <td>412</td>\n",
       "      <td>1</td>\n",
       "      <td>0</td>\n",
       "      <td>0</td>\n",
       "      <td>1</td>\n",
       "      <td>0</td>\n",
       "    </tr>\n",
       "    <tr>\n",
       "      <th>47</th>\n",
       "      <td>37</td>\n",
       "      <td>12</td>\n",
       "      <td>194</td>\n",
       "      <td>4</td>\n",
       "      <td>0.2</td>\n",
       "      <td>3</td>\n",
       "      <td>211</td>\n",
       "      <td>1</td>\n",
       "      <td>1</td>\n",
       "      <td>1</td>\n",
       "      <td>1</td>\n",
       "      <td>1</td>\n",
       "    </tr>\n",
       "    <tr>\n",
       "      <th>53</th>\n",
       "      <td>50</td>\n",
       "      <td>26</td>\n",
       "      <td>190</td>\n",
       "      <td>3</td>\n",
       "      <td>2.1</td>\n",
       "      <td>3</td>\n",
       "      <td>240</td>\n",
       "      <td>1</td>\n",
       "      <td>0</td>\n",
       "      <td>0</td>\n",
       "      <td>1</td>\n",
       "      <td>0</td>\n",
       "    </tr>\n",
       "    <tr>\n",
       "      <th>57</th>\n",
       "      <td>56</td>\n",
       "      <td>31</td>\n",
       "      <td>131</td>\n",
       "      <td>2</td>\n",
       "      <td>1.2</td>\n",
       "      <td>3</td>\n",
       "      <td>0</td>\n",
       "      <td>1</td>\n",
       "      <td>0</td>\n",
       "      <td>0</td>\n",
       "      <td>0</td>\n",
       "      <td>0</td>\n",
       "    </tr>\n",
       "    <tr>\n",
       "      <th>75</th>\n",
       "      <td>31</td>\n",
       "      <td>7</td>\n",
       "      <td>135</td>\n",
       "      <td>4</td>\n",
       "      <td>3.8</td>\n",
       "      <td>2</td>\n",
       "      <td>0</td>\n",
       "      <td>1</td>\n",
       "      <td>0</td>\n",
       "      <td>1</td>\n",
       "      <td>1</td>\n",
       "      <td>1</td>\n",
       "    </tr>\n",
       "  </tbody>\n",
       "</table>\n",
       "</div>"
      ],
      "text/plain": [
       "    Age  Experience  Income  Family  CCAvg  Education  Mortgage  \\\n",
       "9    34           9     180       1    8.9          3         0   \n",
       "16   38          14     130       4    4.7          3       134   \n",
       "18   46          21     193       2    8.1          3         0   \n",
       "29   38          13     119       1    3.3          2         0   \n",
       "38   42          18     141       3    5.0          3         0   \n",
       "42   32           7     132       4    1.1          2       412   \n",
       "47   37          12     194       4    0.2          3       211   \n",
       "53   50          26     190       3    2.1          3       240   \n",
       "57   56          31     131       2    1.2          3         0   \n",
       "75   31           7     135       4    3.8          2         0   \n",
       "\n",
       "    Personal Loan  Securities Account  CD Account  Online  CreditCard  \n",
       "9               1                   0           0       0           0  \n",
       "16              1                   0           0       0           0  \n",
       "18              1                   0           0       0           0  \n",
       "29              1                   0           1       1           1  \n",
       "38              1                   1           1       1           0  \n",
       "42              1                   0           0       1           0  \n",
       "47              1                   1           1       1           1  \n",
       "53              1                   0           0       1           0  \n",
       "57              1                   0           0       0           0  \n",
       "75              1                   0           1       1           1  "
      ]
     },
     "execution_count": 10,
     "metadata": {},
     "output_type": "execute_result"
    }
   ],
   "source": [
    "BankLoan_yes.head(10)"
   ]
  },
  {
   "cell_type": "code",
   "execution_count": 11,
   "id": "8b25a505",
   "metadata": {},
   "outputs": [],
   "source": [
    "Bankloan_no=dataset3[dataset3['Personal Loan']==0]"
   ]
  },
  {
   "cell_type": "code",
   "execution_count": 12,
   "id": "16d8cfed",
   "metadata": {},
   "outputs": [],
   "source": [
    "Bank_yes=BankLoan_yes.describe()"
   ]
  },
  {
   "cell_type": "code",
   "execution_count": 13,
   "id": "3a87fd98",
   "metadata": {},
   "outputs": [
    {
     "data": {
      "text/html": [
       "<div>\n",
       "<style scoped>\n",
       "    .dataframe tbody tr th:only-of-type {\n",
       "        vertical-align: middle;\n",
       "    }\n",
       "\n",
       "    .dataframe tbody tr th {\n",
       "        vertical-align: top;\n",
       "    }\n",
       "\n",
       "    .dataframe thead th {\n",
       "        text-align: right;\n",
       "    }\n",
       "</style>\n",
       "<table border=\"1\" class=\"dataframe\">\n",
       "  <thead>\n",
       "    <tr style=\"text-align: right;\">\n",
       "      <th></th>\n",
       "      <th>Age</th>\n",
       "      <th>Experience</th>\n",
       "      <th>Income</th>\n",
       "      <th>Family</th>\n",
       "      <th>CCAvg</th>\n",
       "      <th>Education</th>\n",
       "      <th>Mortgage</th>\n",
       "      <th>Personal Loan</th>\n",
       "      <th>Securities Account</th>\n",
       "      <th>CD Account</th>\n",
       "      <th>Online</th>\n",
       "      <th>CreditCard</th>\n",
       "    </tr>\n",
       "  </thead>\n",
       "  <tbody>\n",
       "    <tr>\n",
       "      <th>count</th>\n",
       "      <td>480.000000</td>\n",
       "      <td>480.000000</td>\n",
       "      <td>480.000000</td>\n",
       "      <td>480.000000</td>\n",
       "      <td>480.000000</td>\n",
       "      <td>480.000000</td>\n",
       "      <td>480.000000</td>\n",
       "      <td>480.0</td>\n",
       "      <td>480.000000</td>\n",
       "      <td>480.000000</td>\n",
       "      <td>480.00000</td>\n",
       "      <td>480.000000</td>\n",
       "    </tr>\n",
       "    <tr>\n",
       "      <th>mean</th>\n",
       "      <td>45.066667</td>\n",
       "      <td>19.843750</td>\n",
       "      <td>144.745833</td>\n",
       "      <td>2.612500</td>\n",
       "      <td>3.905347</td>\n",
       "      <td>2.233333</td>\n",
       "      <td>100.845833</td>\n",
       "      <td>1.0</td>\n",
       "      <td>0.125000</td>\n",
       "      <td>0.291667</td>\n",
       "      <td>0.60625</td>\n",
       "      <td>0.297917</td>\n",
       "    </tr>\n",
       "    <tr>\n",
       "      <th>std</th>\n",
       "      <td>11.590964</td>\n",
       "      <td>11.582443</td>\n",
       "      <td>31.584429</td>\n",
       "      <td>1.115393</td>\n",
       "      <td>2.097679</td>\n",
       "      <td>0.753373</td>\n",
       "      <td>160.847862</td>\n",
       "      <td>0.0</td>\n",
       "      <td>0.331064</td>\n",
       "      <td>0.455004</td>\n",
       "      <td>0.48909</td>\n",
       "      <td>0.457820</td>\n",
       "    </tr>\n",
       "    <tr>\n",
       "      <th>min</th>\n",
       "      <td>26.000000</td>\n",
       "      <td>0.000000</td>\n",
       "      <td>60.000000</td>\n",
       "      <td>1.000000</td>\n",
       "      <td>0.000000</td>\n",
       "      <td>1.000000</td>\n",
       "      <td>0.000000</td>\n",
       "      <td>1.0</td>\n",
       "      <td>0.000000</td>\n",
       "      <td>0.000000</td>\n",
       "      <td>0.00000</td>\n",
       "      <td>0.000000</td>\n",
       "    </tr>\n",
       "    <tr>\n",
       "      <th>25%</th>\n",
       "      <td>35.000000</td>\n",
       "      <td>9.000000</td>\n",
       "      <td>122.000000</td>\n",
       "      <td>2.000000</td>\n",
       "      <td>2.600000</td>\n",
       "      <td>2.000000</td>\n",
       "      <td>0.000000</td>\n",
       "      <td>1.0</td>\n",
       "      <td>0.000000</td>\n",
       "      <td>0.000000</td>\n",
       "      <td>0.00000</td>\n",
       "      <td>0.000000</td>\n",
       "    </tr>\n",
       "    <tr>\n",
       "      <th>50%</th>\n",
       "      <td>45.000000</td>\n",
       "      <td>20.000000</td>\n",
       "      <td>142.500000</td>\n",
       "      <td>3.000000</td>\n",
       "      <td>3.800000</td>\n",
       "      <td>2.000000</td>\n",
       "      <td>0.000000</td>\n",
       "      <td>1.0</td>\n",
       "      <td>0.000000</td>\n",
       "      <td>0.000000</td>\n",
       "      <td>1.00000</td>\n",
       "      <td>0.000000</td>\n",
       "    </tr>\n",
       "    <tr>\n",
       "      <th>75%</th>\n",
       "      <td>55.000000</td>\n",
       "      <td>30.000000</td>\n",
       "      <td>172.000000</td>\n",
       "      <td>4.000000</td>\n",
       "      <td>5.350000</td>\n",
       "      <td>3.000000</td>\n",
       "      <td>192.500000</td>\n",
       "      <td>1.0</td>\n",
       "      <td>0.000000</td>\n",
       "      <td>1.000000</td>\n",
       "      <td>1.00000</td>\n",
       "      <td>1.000000</td>\n",
       "    </tr>\n",
       "    <tr>\n",
       "      <th>max</th>\n",
       "      <td>65.000000</td>\n",
       "      <td>41.000000</td>\n",
       "      <td>203.000000</td>\n",
       "      <td>4.000000</td>\n",
       "      <td>10.000000</td>\n",
       "      <td>3.000000</td>\n",
       "      <td>617.000000</td>\n",
       "      <td>1.0</td>\n",
       "      <td>1.000000</td>\n",
       "      <td>1.000000</td>\n",
       "      <td>1.00000</td>\n",
       "      <td>1.000000</td>\n",
       "    </tr>\n",
       "  </tbody>\n",
       "</table>\n",
       "</div>"
      ],
      "text/plain": [
       "              Age  Experience      Income      Family       CCAvg   Education  \\\n",
       "count  480.000000  480.000000  480.000000  480.000000  480.000000  480.000000   \n",
       "mean    45.066667   19.843750  144.745833    2.612500    3.905347    2.233333   \n",
       "std     11.590964   11.582443   31.584429    1.115393    2.097679    0.753373   \n",
       "min     26.000000    0.000000   60.000000    1.000000    0.000000    1.000000   \n",
       "25%     35.000000    9.000000  122.000000    2.000000    2.600000    2.000000   \n",
       "50%     45.000000   20.000000  142.500000    3.000000    3.800000    2.000000   \n",
       "75%     55.000000   30.000000  172.000000    4.000000    5.350000    3.000000   \n",
       "max     65.000000   41.000000  203.000000    4.000000   10.000000    3.000000   \n",
       "\n",
       "         Mortgage  Personal Loan  Securities Account  CD Account     Online  \\\n",
       "count  480.000000          480.0          480.000000  480.000000  480.00000   \n",
       "mean   100.845833            1.0            0.125000    0.291667    0.60625   \n",
       "std    160.847862            0.0            0.331064    0.455004    0.48909   \n",
       "min      0.000000            1.0            0.000000    0.000000    0.00000   \n",
       "25%      0.000000            1.0            0.000000    0.000000    0.00000   \n",
       "50%      0.000000            1.0            0.000000    0.000000    1.00000   \n",
       "75%    192.500000            1.0            0.000000    1.000000    1.00000   \n",
       "max    617.000000            1.0            1.000000    1.000000    1.00000   \n",
       "\n",
       "       CreditCard  \n",
       "count  480.000000  \n",
       "mean     0.297917  \n",
       "std      0.457820  \n",
       "min      0.000000  \n",
       "25%      0.000000  \n",
       "50%      0.000000  \n",
       "75%      1.000000  \n",
       "max      1.000000  "
      ]
     },
     "execution_count": 13,
     "metadata": {},
     "output_type": "execute_result"
    }
   ],
   "source": [
    "Bank_yes"
   ]
  },
  {
   "cell_type": "code",
   "execution_count": 14,
   "id": "af2b29bd",
   "metadata": {},
   "outputs": [],
   "source": [
    "Bank_no=Bankloan_no.describe()"
   ]
  },
  {
   "cell_type": "code",
   "execution_count": 15,
   "id": "f46b04e7",
   "metadata": {},
   "outputs": [
    {
     "data": {
      "text/html": [
       "<div>\n",
       "<style scoped>\n",
       "    .dataframe tbody tr th:only-of-type {\n",
       "        vertical-align: middle;\n",
       "    }\n",
       "\n",
       "    .dataframe tbody tr th {\n",
       "        vertical-align: top;\n",
       "    }\n",
       "\n",
       "    .dataframe thead th {\n",
       "        text-align: right;\n",
       "    }\n",
       "</style>\n",
       "<table border=\"1\" class=\"dataframe\">\n",
       "  <thead>\n",
       "    <tr style=\"text-align: right;\">\n",
       "      <th></th>\n",
       "      <th>Age</th>\n",
       "      <th>Experience</th>\n",
       "      <th>Income</th>\n",
       "      <th>Family</th>\n",
       "      <th>CCAvg</th>\n",
       "      <th>Education</th>\n",
       "      <th>Mortgage</th>\n",
       "      <th>Personal Loan</th>\n",
       "      <th>Securities Account</th>\n",
       "      <th>CD Account</th>\n",
       "      <th>Online</th>\n",
       "      <th>CreditCard</th>\n",
       "    </tr>\n",
       "  </thead>\n",
       "  <tbody>\n",
       "    <tr>\n",
       "      <th>count</th>\n",
       "      <td>4507.000000</td>\n",
       "      <td>4507.000000</td>\n",
       "      <td>4507.000000</td>\n",
       "      <td>4507.000000</td>\n",
       "      <td>4507.000000</td>\n",
       "      <td>4507.000000</td>\n",
       "      <td>4507.000000</td>\n",
       "      <td>4507.0</td>\n",
       "      <td>4507.000000</td>\n",
       "      <td>4507.000000</td>\n",
       "      <td>4507.000000</td>\n",
       "      <td>4507.000000</td>\n",
       "    </tr>\n",
       "    <tr>\n",
       "      <th>mean</th>\n",
       "      <td>45.377635</td>\n",
       "      <td>20.143333</td>\n",
       "      <td>66.271356</td>\n",
       "      <td>2.373641</td>\n",
       "      <td>1.731359</td>\n",
       "      <td>1.841580</td>\n",
       "      <td>51.938762</td>\n",
       "      <td>0.0</td>\n",
       "      <td>0.102507</td>\n",
       "      <td>0.035944</td>\n",
       "      <td>0.595074</td>\n",
       "      <td>0.294209</td>\n",
       "    </tr>\n",
       "    <tr>\n",
       "      <th>std</th>\n",
       "      <td>11.447784</td>\n",
       "      <td>11.453232</td>\n",
       "      <td>40.606490</td>\n",
       "      <td>1.148610</td>\n",
       "      <td>1.568899</td>\n",
       "      <td>0.839664</td>\n",
       "      <td>92.129496</td>\n",
       "      <td>0.0</td>\n",
       "      <td>0.303348</td>\n",
       "      <td>0.186171</td>\n",
       "      <td>0.490932</td>\n",
       "      <td>0.455737</td>\n",
       "    </tr>\n",
       "    <tr>\n",
       "      <th>min</th>\n",
       "      <td>23.000000</td>\n",
       "      <td>-3.000000</td>\n",
       "      <td>8.000000</td>\n",
       "      <td>1.000000</td>\n",
       "      <td>0.000000</td>\n",
       "      <td>1.000000</td>\n",
       "      <td>0.000000</td>\n",
       "      <td>0.0</td>\n",
       "      <td>0.000000</td>\n",
       "      <td>0.000000</td>\n",
       "      <td>0.000000</td>\n",
       "      <td>0.000000</td>\n",
       "    </tr>\n",
       "    <tr>\n",
       "      <th>25%</th>\n",
       "      <td>35.000000</td>\n",
       "      <td>10.000000</td>\n",
       "      <td>35.000000</td>\n",
       "      <td>1.000000</td>\n",
       "      <td>0.600000</td>\n",
       "      <td>1.000000</td>\n",
       "      <td>0.000000</td>\n",
       "      <td>0.0</td>\n",
       "      <td>0.000000</td>\n",
       "      <td>0.000000</td>\n",
       "      <td>0.000000</td>\n",
       "      <td>0.000000</td>\n",
       "    </tr>\n",
       "    <tr>\n",
       "      <th>50%</th>\n",
       "      <td>45.000000</td>\n",
       "      <td>20.000000</td>\n",
       "      <td>59.000000</td>\n",
       "      <td>2.000000</td>\n",
       "      <td>1.500000</td>\n",
       "      <td>2.000000</td>\n",
       "      <td>0.000000</td>\n",
       "      <td>0.0</td>\n",
       "      <td>0.000000</td>\n",
       "      <td>0.000000</td>\n",
       "      <td>1.000000</td>\n",
       "      <td>0.000000</td>\n",
       "    </tr>\n",
       "    <tr>\n",
       "      <th>75%</th>\n",
       "      <td>55.000000</td>\n",
       "      <td>30.000000</td>\n",
       "      <td>84.500000</td>\n",
       "      <td>3.000000</td>\n",
       "      <td>2.300000</td>\n",
       "      <td>3.000000</td>\n",
       "      <td>98.000000</td>\n",
       "      <td>0.0</td>\n",
       "      <td>0.000000</td>\n",
       "      <td>0.000000</td>\n",
       "      <td>1.000000</td>\n",
       "      <td>1.000000</td>\n",
       "    </tr>\n",
       "    <tr>\n",
       "      <th>max</th>\n",
       "      <td>67.000000</td>\n",
       "      <td>43.000000</td>\n",
       "      <td>224.000000</td>\n",
       "      <td>4.000000</td>\n",
       "      <td>8.800000</td>\n",
       "      <td>3.000000</td>\n",
       "      <td>635.000000</td>\n",
       "      <td>0.0</td>\n",
       "      <td>1.000000</td>\n",
       "      <td>1.000000</td>\n",
       "      <td>1.000000</td>\n",
       "      <td>1.000000</td>\n",
       "    </tr>\n",
       "  </tbody>\n",
       "</table>\n",
       "</div>"
      ],
      "text/plain": [
       "               Age   Experience       Income       Family        CCAvg  \\\n",
       "count  4507.000000  4507.000000  4507.000000  4507.000000  4507.000000   \n",
       "mean     45.377635    20.143333    66.271356     2.373641     1.731359   \n",
       "std      11.447784    11.453232    40.606490     1.148610     1.568899   \n",
       "min      23.000000    -3.000000     8.000000     1.000000     0.000000   \n",
       "25%      35.000000    10.000000    35.000000     1.000000     0.600000   \n",
       "50%      45.000000    20.000000    59.000000     2.000000     1.500000   \n",
       "75%      55.000000    30.000000    84.500000     3.000000     2.300000   \n",
       "max      67.000000    43.000000   224.000000     4.000000     8.800000   \n",
       "\n",
       "         Education     Mortgage  Personal Loan  Securities Account  \\\n",
       "count  4507.000000  4507.000000         4507.0         4507.000000   \n",
       "mean      1.841580    51.938762            0.0            0.102507   \n",
       "std       0.839664    92.129496            0.0            0.303348   \n",
       "min       1.000000     0.000000            0.0            0.000000   \n",
       "25%       1.000000     0.000000            0.0            0.000000   \n",
       "50%       2.000000     0.000000            0.0            0.000000   \n",
       "75%       3.000000    98.000000            0.0            0.000000   \n",
       "max       3.000000   635.000000            0.0            1.000000   \n",
       "\n",
       "        CD Account       Online   CreditCard  \n",
       "count  4507.000000  4507.000000  4507.000000  \n",
       "mean      0.035944     0.595074     0.294209  \n",
       "std       0.186171     0.490932     0.455737  \n",
       "min       0.000000     0.000000     0.000000  \n",
       "25%       0.000000     0.000000     0.000000  \n",
       "50%       0.000000     1.000000     0.000000  \n",
       "75%       0.000000     1.000000     1.000000  \n",
       "max       1.000000     1.000000     1.000000  "
      ]
     },
     "execution_count": 15,
     "metadata": {},
     "output_type": "execute_result"
    }
   ],
   "source": [
    "Bank_no"
   ]
  },
  {
   "cell_type": "code",
   "execution_count": 16,
   "id": "8256d73c",
   "metadata": {},
   "outputs": [],
   "source": [
    "import matplotlib.pyplot as plt"
   ]
  },
  {
   "cell_type": "code",
   "execution_count": 17,
   "id": "51f53798",
   "metadata": {},
   "outputs": [
    {
     "data": {
      "image/png": "[encoded data removed]",
      "text/plain": [
       "<Figure size 432x288 with 1 Axes>"
      ]
     },
     "metadata": {
      "needs_background": "light"
     },
     "output_type": "display_data"
    }
   ],
   "source": [
    "plt.hist(dataset3.Income)\n",
    "plt.xlabel('Income_In_1000$')\n",
    "plt.ylabel('count')\n",
    "plt.show()"
   ]
  },
  {
   "cell_type": "code",
   "execution_count": 18,
   "id": "fc425ef7",
   "metadata": {},
   "outputs": [
    {
     "data": {
      "text/plain": [
       "{'whiskers': [<matplotlib.lines.Line2D at 0x287748ae4c0>,\n",
       "  <matplotlib.lines.Line2D at 0x287748ae790>],\n",
       " 'caps': [<matplotlib.lines.Line2D at 0x287748aeb20>,\n",
       "  <matplotlib.lines.Line2D at 0x287748aed30>],\n",
       " 'boxes': [<matplotlib.lines.Line2D at 0x287748ae1f0>],\n",
       " 'medians': [<matplotlib.lines.Line2D at 0x287748ba040>],\n",
       " 'fliers': [<matplotlib.lines.Line2D at 0x287748ba310>],\n",
       " 'means': []}"
      ]
     },
     "execution_count": 18,
     "metadata": {},
     "output_type": "execute_result"
    },
    {
     "data": {
      "image/png": "[encoded data removed]",
      "text/plain": [
       "<Figure size 432x288 with 1 Axes>"
      ]
     },
     "metadata": {
      "needs_background": "light"
     },
     "output_type": "display_data"
    }
   ],
   "source": [
    "plt.boxplot(dataset3.Age)"
   ]
  },
  {
   "cell_type": "code",
   "execution_count": 19,
   "id": "50dd3489",
   "metadata": {},
   "outputs": [
    {
     "data": {
      "text/plain": [
       "{'whiskers': [<matplotlib.lines.Line2D at 0x2877475cfd0>,\n",
       "  <matplotlib.lines.Line2D at 0x2877475cb20>],\n",
       " 'caps': [<matplotlib.lines.Line2D at 0x2877475c2e0>,\n",
       "  <matplotlib.lines.Line2D at 0x287747ee7c0>],\n",
       " 'boxes': [<matplotlib.lines.Line2D at 0x2877475c430>],\n",
       " 'medians': [<matplotlib.lines.Line2D at 0x287747eee20>],\n",
       " 'fliers': [<matplotlib.lines.Line2D at 0x287747ee430>],\n",
       " 'means': []}"
      ]
     },
     "execution_count": 19,
     "metadata": {},
     "output_type": "execute_result"
    },
    {
     "data": {
      "image/png": "[encoded data removed]",
      "text/plain": [
       "<Figure size 432x288 with 1 Axes>"
      ]
     },
     "metadata": {
      "needs_background": "light"
     },
     "output_type": "display_data"
    }
   ],
   "source": [
    "plt.boxplot(dataset3.Income)"
   ]
  },
  {
   "cell_type": "code",
   "execution_count": 20,
   "id": "b3e61fcb",
   "metadata": {},
   "outputs": [
    {
     "data": {
      "text/plain": [
       "Age                  -0.031075\n",
       "Experience           -0.028110\n",
       "Income                0.839704\n",
       "Family                0.155177\n",
       "CCAvg                 1.595872\n",
       "Education             0.230407\n",
       "Mortgage              2.099909\n",
       "Personal Loan         2.738722\n",
       "Securities Account    2.583518\n",
       "CD Account            3.685903\n",
       "Online               -0.392033\n",
       "CreditCard            0.901600\n",
       "dtype: float64"
      ]
     },
     "execution_count": 20,
     "metadata": {},
     "output_type": "execute_result"
    }
   ],
   "source": [
    "dataset3.skew()"
   ]
  },
  {
   "cell_type": "code",
   "execution_count": 21,
   "id": "950e5a4b",
   "metadata": {},
   "outputs": [],
   "source": [
    "from scipy.stats import ttest_ind"
   ]
  },
  {
   "cell_type": "code",
   "execution_count": 22,
   "id": "01cc7b53",
   "metadata": {},
   "outputs": [],
   "source": [
    "stats,p=ttest_ind(BankLoan_yes.Age,Bankloan_no.Age)"
   ]
  },
  {
   "cell_type": "code",
   "execution_count": 23,
   "id": "192cc126",
   "metadata": {},
   "outputs": [
    {
     "name": "stdout",
     "output_type": "stream",
     "text": [
      "-0.5650860441346268 0.5720406692695466\n"
     ]
    }
   ],
   "source": [
    "print(stats,p)"
   ]
  },
  {
   "cell_type": "code",
   "execution_count": 24,
   "id": "29a52541",
   "metadata": {},
   "outputs": [],
   "source": [
    "stats,p=ttest_ind(BankLoan_yes.Experience,Bankloan_no.Experience)"
   ]
  },
  {
   "cell_type": "code",
   "execution_count": 25,
   "id": "a35aaedf",
   "metadata": {},
   "outputs": [
    {
     "name": "stdout",
     "output_type": "stream",
     "text": [
      "-0.5442022148074946 0.5863266672510148\n"
     ]
    }
   ],
   "source": [
    "print(stats,p)"
   ]
  },
  {
   "cell_type": "code",
   "execution_count": 26,
   "id": "cdbedc28",
   "metadata": {},
   "outputs": [],
   "source": [
    "stats,p=ttest_ind(BankLoan_yes.Income,Bankloan_no.Income)"
   ]
  },
  {
   "cell_type": "code",
   "execution_count": 27,
   "id": "1ee8c7bd",
   "metadata": {},
   "outputs": [
    {
     "name": "stdout",
     "output_type": "stream",
     "text": [
      "41.037412879663336 0.0\n"
     ]
    }
   ],
   "source": [
    "print(stats,p)"
   ]
  },
  {
   "cell_type": "code",
   "execution_count": 28,
   "id": "e584a8c4",
   "metadata": {},
   "outputs": [],
   "source": [
    "from scipy.stats import mannwhitneyu"
   ]
  },
  {
   "cell_type": "code",
   "execution_count": 29,
   "id": "1bb45941",
   "metadata": {},
   "outputs": [],
   "source": [
    "stats,p=mannwhitneyu(BankLoan_yes.Mortgage,Bankloan_no.Mortgage)"
   ]
  },
  {
   "cell_type": "code",
   "execution_count": 30,
   "id": "bbf06b08",
   "metadata": {},
   "outputs": [
    {
     "name": "stdout",
     "output_type": "stream",
     "text": [
      "1190573.5 9.03813116258784e-06\n"
     ]
    }
   ],
   "source": [
    "print(stats,p)"
   ]
  },
  {
   "cell_type": "code",
   "execution_count": 31,
   "id": "2f06457b",
   "metadata": {},
   "outputs": [],
   "source": [
    "stats,p=mannwhitneyu(BankLoan_yes.CCAvg,Bankloan_no.CCAvg)"
   ]
  },
  {
   "cell_type": "code",
   "execution_count": 32,
   "id": "25600568",
   "metadata": {},
   "outputs": [
    {
     "name": "stdout",
     "output_type": "stream",
     "text": [
      "1746342.0 6.145439278805009e-109\n"
     ]
    }
   ],
   "source": [
    "print(stats,p)"
   ]
  },
  {
   "cell_type": "code",
   "execution_count": 33,
   "id": "0aef15ce",
   "metadata": {},
   "outputs": [],
   "source": [
    "from scipy.stats import chi2_contingency"
   ]
  },
  {
   "cell_type": "code",
   "execution_count": 34,
   "id": "652b529c",
   "metadata": {},
   "outputs": [],
   "source": [
    "chitable=pd.crosstab(dataset3['Personal Loan'],dataset3['Education'])"
   ]
  },
  {
   "cell_type": "code",
   "execution_count": 35,
   "id": "9414125d",
   "metadata": {},
   "outputs": [
    {
     "data": {
      "text/html": [
       "<div>\n",
       "<style scoped>\n",
       "    .dataframe tbody tr th:only-of-type {\n",
       "        vertical-align: middle;\n",
       "    }\n",
       "\n",
       "    .dataframe tbody tr th {\n",
       "        vertical-align: top;\n",
       "    }\n",
       "\n",
       "    .dataframe thead th {\n",
       "        text-align: right;\n",
       "    }\n",
       "</style>\n",
       "<table border=\"1\" class=\"dataframe\">\n",
       "  <thead>\n",
       "    <tr style=\"text-align: right;\">\n",
       "      <th>Education</th>\n",
       "      <th>1</th>\n",
       "      <th>2</th>\n",
       "      <th>3</th>\n",
       "    </tr>\n",
       "    <tr>\n",
       "      <th>Personal Loan</th>\n",
       "      <th></th>\n",
       "      <th></th>\n",
       "      <th></th>\n",
       "    </tr>\n",
       "  </thead>\n",
       "  <tbody>\n",
       "    <tr>\n",
       "      <th>0</th>\n",
       "      <td>2002</td>\n",
       "      <td>1217</td>\n",
       "      <td>1288</td>\n",
       "    </tr>\n",
       "    <tr>\n",
       "      <th>1</th>\n",
       "      <td>93</td>\n",
       "      <td>182</td>\n",
       "      <td>205</td>\n",
       "    </tr>\n",
       "  </tbody>\n",
       "</table>\n",
       "</div>"
      ],
      "text/plain": [
       "Education         1     2     3\n",
       "Personal Loan                  \n",
       "0              2002  1217  1288\n",
       "1                93   182   205"
      ]
     },
     "execution_count": 35,
     "metadata": {},
     "output_type": "execute_result"
    }
   ],
   "source": [
    "chitable"
   ]
  },
  {
   "cell_type": "code",
   "execution_count": 36,
   "id": "9faddc9d",
   "metadata": {},
   "outputs": [],
   "source": [
    "stats,p,dof,expected=chi2_contingency(chitable)"
   ]
  },
  {
   "cell_type": "code",
   "execution_count": 37,
   "id": "62510aad",
   "metadata": {},
   "outputs": [
    {
     "name": "stdout",
     "output_type": "stream",
     "text": [
      "112.12380323466421 4.493921507384509e-25\n"
     ]
    }
   ],
   "source": [
    "print(stats,p)"
   ]
  },
  {
   "cell_type": "code",
   "execution_count": 38,
   "id": "ff92b503",
   "metadata": {},
   "outputs": [],
   "source": [
    "chitable=pd.crosstab(dataset3['Personal Loan'],dataset3['Family'])"
   ]
  },
  {
   "cell_type": "code",
   "execution_count": 39,
   "id": "12e24196",
   "metadata": {},
   "outputs": [
    {
     "data": {
      "text/html": [
       "<div>\n",
       "<style scoped>\n",
       "    .dataframe tbody tr th:only-of-type {\n",
       "        vertical-align: middle;\n",
       "    }\n",
       "\n",
       "    .dataframe tbody tr th {\n",
       "        vertical-align: top;\n",
       "    }\n",
       "\n",
       "    .dataframe thead th {\n",
       "        text-align: right;\n",
       "    }\n",
       "</style>\n",
       "<table border=\"1\" class=\"dataframe\">\n",
       "  <thead>\n",
       "    <tr style=\"text-align: right;\">\n",
       "      <th>Family</th>\n",
       "      <th>1</th>\n",
       "      <th>2</th>\n",
       "      <th>3</th>\n",
       "      <th>4</th>\n",
       "    </tr>\n",
       "    <tr>\n",
       "      <th>Personal Loan</th>\n",
       "      <th></th>\n",
       "      <th></th>\n",
       "      <th></th>\n",
       "      <th></th>\n",
       "    </tr>\n",
       "  </thead>\n",
       "  <tbody>\n",
       "    <tr>\n",
       "      <th>0</th>\n",
       "      <td>1360</td>\n",
       "      <td>1188</td>\n",
       "      <td>874</td>\n",
       "      <td>1085</td>\n",
       "    </tr>\n",
       "    <tr>\n",
       "      <th>1</th>\n",
       "      <td>107</td>\n",
       "      <td>106</td>\n",
       "      <td>133</td>\n",
       "      <td>134</td>\n",
       "    </tr>\n",
       "  </tbody>\n",
       "</table>\n",
       "</div>"
      ],
      "text/plain": [
       "Family            1     2    3     4\n",
       "Personal Loan                       \n",
       "0              1360  1188  874  1085\n",
       "1               107   106  133   134"
      ]
     },
     "execution_count": 39,
     "metadata": {},
     "output_type": "execute_result"
    }
   ],
   "source": [
    "chitable"
   ]
  },
  {
   "cell_type": "code",
   "execution_count": 40,
   "id": "11210124",
   "metadata": {},
   "outputs": [],
   "source": [
    "stats,p,dof,expected=chi2_contingency(chitable)"
   ]
  },
  {
   "cell_type": "code",
   "execution_count": 41,
   "id": "62d8f884",
   "metadata": {},
   "outputs": [
    {
     "name": "stdout",
     "output_type": "stream",
     "text": [
      "29.700590571387025 1.5953939263336278e-06\n"
     ]
    }
   ],
   "source": [
    "print(stats,p)"
   ]
  },
  {
   "cell_type": "code",
   "execution_count": 42,
   "id": "e32ccf2f",
   "metadata": {},
   "outputs": [],
   "source": [
    "chitable=pd.crosstab(dataset3['Personal Loan'],dataset3['Securities Account'])"
   ]
  },
  {
   "cell_type": "code",
   "execution_count": 43,
   "id": "66890484",
   "metadata": {},
   "outputs": [
    {
     "data": {
      "text/html": [
       "<div>\n",
       "<style scoped>\n",
       "    .dataframe tbody tr th:only-of-type {\n",
       "        vertical-align: middle;\n",
       "    }\n",
       "\n",
       "    .dataframe tbody tr th {\n",
       "        vertical-align: top;\n",
       "    }\n",
       "\n",
       "    .dataframe thead th {\n",
       "        text-align: right;\n",
       "    }\n",
       "</style>\n",
       "<table border=\"1\" class=\"dataframe\">\n",
       "  <thead>\n",
       "    <tr style=\"text-align: right;\">\n",
       "      <th>Securities Account</th>\n",
       "      <th>0</th>\n",
       "      <th>1</th>\n",
       "    </tr>\n",
       "    <tr>\n",
       "      <th>Personal Loan</th>\n",
       "      <th></th>\n",
       "      <th></th>\n",
       "    </tr>\n",
       "  </thead>\n",
       "  <tbody>\n",
       "    <tr>\n",
       "      <th>0</th>\n",
       "      <td>4045</td>\n",
       "      <td>462</td>\n",
       "    </tr>\n",
       "    <tr>\n",
       "      <th>1</th>\n",
       "      <td>420</td>\n",
       "      <td>60</td>\n",
       "    </tr>\n",
       "  </tbody>\n",
       "</table>\n",
       "</div>"
      ],
      "text/plain": [
       "Securities Account     0    1\n",
       "Personal Loan                \n",
       "0                   4045  462\n",
       "1                    420   60"
      ]
     },
     "execution_count": 43,
     "metadata": {},
     "output_type": "execute_result"
    }
   ],
   "source": [
    "chitable"
   ]
  },
  {
   "cell_type": "code",
   "execution_count": 44,
   "id": "64c9f6af",
   "metadata": {},
   "outputs": [],
   "source": [
    "stats,p,dof,expected=chi2_contingency(chitable)"
   ]
  },
  {
   "cell_type": "code",
   "execution_count": 45,
   "id": "d816e9a1",
   "metadata": {},
   "outputs": [
    {
     "name": "stdout",
     "output_type": "stream",
     "text": [
      "2.1080092303922933 0.1465298319948713\n"
     ]
    }
   ],
   "source": [
    "print(stats,p)"
   ]
  },
  {
   "cell_type": "code",
   "execution_count": 46,
   "id": "7d8ace47",
   "metadata": {},
   "outputs": [],
   "source": [
    "chitable=pd.crosstab(dataset3['Personal Loan'],dataset3['CD Account'])"
   ]
  },
  {
   "cell_type": "code",
   "execution_count": 47,
   "id": "f0fe10d8",
   "metadata": {},
   "outputs": [
    {
     "data": {
      "text/html": [
       "<div>\n",
       "<style scoped>\n",
       "    .dataframe tbody tr th:only-of-type {\n",
       "        vertical-align: middle;\n",
       "    }\n",
       "\n",
       "    .dataframe tbody tr th {\n",
       "        vertical-align: top;\n",
       "    }\n",
       "\n",
       "    .dataframe thead th {\n",
       "        text-align: right;\n",
       "    }\n",
       "</style>\n",
       "<table border=\"1\" class=\"dataframe\">\n",
       "  <thead>\n",
       "    <tr style=\"text-align: right;\">\n",
       "      <th>CD Account</th>\n",
       "      <th>0</th>\n",
       "      <th>1</th>\n",
       "    </tr>\n",
       "    <tr>\n",
       "      <th>Personal Loan</th>\n",
       "      <th></th>\n",
       "      <th></th>\n",
       "    </tr>\n",
       "  </thead>\n",
       "  <tbody>\n",
       "    <tr>\n",
       "      <th>0</th>\n",
       "      <td>4345</td>\n",
       "      <td>162</td>\n",
       "    </tr>\n",
       "    <tr>\n",
       "      <th>1</th>\n",
       "      <td>340</td>\n",
       "      <td>140</td>\n",
       "    </tr>\n",
       "  </tbody>\n",
       "</table>\n",
       "</div>"
      ],
      "text/plain": [
       "CD Account        0    1\n",
       "Personal Loan           \n",
       "0              4345  162\n",
       "1               340  140"
      ]
     },
     "execution_count": 47,
     "metadata": {},
     "output_type": "execute_result"
    }
   ],
   "source": [
    "chitable"
   ]
  },
  {
   "cell_type": "code",
   "execution_count": 48,
   "id": "4e0ace72",
   "metadata": {},
   "outputs": [],
   "source": [
    "stats,p,dof,expected=chi2_contingency(chitable)"
   ]
  },
  {
   "cell_type": "code",
   "execution_count": 49,
   "id": "674b5c9e",
   "metadata": {},
   "outputs": [
    {
     "name": "stdout",
     "output_type": "stream",
     "text": [
      "494.15817400892047 1.7743877691807787e-109\n"
     ]
    }
   ],
   "source": [
    "print(stats,p)"
   ]
  },
  {
   "cell_type": "code",
   "execution_count": 50,
   "id": "b7269a0b",
   "metadata": {},
   "outputs": [],
   "source": [
    "from scipy.stats import pearsonr "
   ]
  },
  {
   "cell_type": "code",
   "execution_count": 51,
   "id": "4d6a293d",
   "metadata": {},
   "outputs": [],
   "source": [
    "stats,p=pearsonr(dataset3['Personal Loan'],dataset3['Age'])"
   ]
  },
  {
   "cell_type": "code",
   "execution_count": 52,
   "id": "7a4c701d",
   "metadata": {},
   "outputs": [
    {
     "name": "stdout",
     "output_type": "stream",
     "text": [
      "-0.00800328147197561 0.5720406692716862\n"
     ]
    }
   ],
   "source": [
    "print(stats,p)"
   ]
  },
  {
   "cell_type": "code",
   "execution_count": 53,
   "id": "73e72fa9",
   "metadata": {},
   "outputs": [],
   "source": [
    "stats,p=pearsonr(dataset3['Personal Loan'],dataset3['Experience'])"
   ]
  },
  {
   "cell_type": "code",
   "execution_count": 55,
   "id": "48e08ebd",
   "metadata": {
    "scrolled": true
   },
   "outputs": [
    {
     "name": "stdout",
     "output_type": "stream",
     "text": [
      "-0.007707522894152156 0.5863266672530669\n"
     ]
    }
   ],
   "source": [
    "print(stats,p)"
   ]
  },
  {
   "cell_type": "code",
   "execution_count": 56,
   "id": "b0ec3aef",
   "metadata": {},
   "outputs": [],
   "source": [
    "stats,p=pearsonr(dataset3['Personal Loan'],dataset3['Income'])"
   ]
  },
  {
   "cell_type": "code",
   "execution_count": 57,
   "id": "d92136e3",
   "metadata": {},
   "outputs": [
    {
     "name": "stdout",
     "output_type": "stream",
     "text": [
      "0.5025130678174674 1.993056e-317\n"
     ]
    }
   ],
   "source": [
    "print(stats,p)"
   ]
  },
  {
   "cell_type": "code",
   "execution_count": 58,
   "id": "53905b36",
   "metadata": {},
   "outputs": [],
   "source": [
    "stats,p=pearsonr(dataset3['Personal Loan'],dataset3['Education'])"
   ]
  },
  {
   "cell_type": "code",
   "execution_count": 59,
   "id": "b88b84d5",
   "metadata": {},
   "outputs": [
    {
     "name": "stdout",
     "output_type": "stream",
     "text": [
      "0.137617799300185 1.6319126552573136e-22\n"
     ]
    }
   ],
   "source": [
    "print(stats,p)"
   ]
  },
  {
   "cell_type": "code",
   "execution_count": 61,
   "id": "bc0092c5",
   "metadata": {},
   "outputs": [],
   "source": [
    "stats,p=pearsonr(dataset3['Personal Loan'],dataset3['Mortgage'])"
   ]
  },
  {
   "cell_type": "code",
   "execution_count": 62,
   "id": "978d3b60",
   "metadata": {},
   "outputs": [
    {
     "name": "stdout",
     "output_type": "stream",
     "text": [
      "0.1416999421195666 8.738439959240812e-24\n"
     ]
    }
   ],
   "source": [
    "print(stats,p)"
   ]
  },
  {
   "cell_type": "code",
   "execution_count": 63,
   "id": "15263f5e",
   "metadata": {},
   "outputs": [
    {
     "data": {
      "text/plain": [
       "[<matplotlib.lines.Line2D at 0x2877a0e8a00>]"
      ]
     },
     "execution_count": 63,
     "metadata": {},
     "output_type": "execute_result"
    },
    {
     "data": {
      "image/png": "[encoded data removed]",
      "text/plain": [
       "<Figure size 432x288 with 1 Axes>"
      ]
     },
     "metadata": {
      "needs_background": "light"
     },
     "output_type": "display_data"
    }
   ],
   "source": [
    "plt.plot(dataset3['Personal Loan'],dataset3['Income'])"
   ]
  },
  {
   "cell_type": "code",
   "execution_count": 65,
   "id": "f81181df",
   "metadata": {},
   "outputs": [
    {
     "data": {
      "text/html": [
       "<div>\n",
       "<style scoped>\n",
       "    .dataframe tbody tr th:only-of-type {\n",
       "        vertical-align: middle;\n",
       "    }\n",
       "\n",
       "    .dataframe tbody tr th {\n",
       "        vertical-align: top;\n",
       "    }\n",
       "\n",
       "    .dataframe thead th {\n",
       "        text-align: right;\n",
       "    }\n",
       "</style>\n",
       "<table border=\"1\" class=\"dataframe\">\n",
       "  <thead>\n",
       "    <tr style=\"text-align: right;\">\n",
       "      <th></th>\n",
       "      <th>Age</th>\n",
       "      <th>Experience</th>\n",
       "      <th>Income</th>\n",
       "      <th>Family</th>\n",
       "      <th>CCAvg</th>\n",
       "      <th>Education</th>\n",
       "      <th>Mortgage</th>\n",
       "      <th>Personal Loan</th>\n",
       "      <th>Securities Account</th>\n",
       "      <th>CD Account</th>\n",
       "      <th>Online</th>\n",
       "      <th>CreditCard</th>\n",
       "    </tr>\n",
       "  </thead>\n",
       "  <tbody>\n",
       "    <tr>\n",
       "      <th>Age</th>\n",
       "      <td>1.000000</td>\n",
       "      <td>0.994221</td>\n",
       "      <td>-0.056897</td>\n",
       "      <td>-0.045533</td>\n",
       "      <td>-0.052540</td>\n",
       "      <td>0.042356</td>\n",
       "      <td>-0.013014</td>\n",
       "      <td>-0.008003</td>\n",
       "      <td>-0.000715</td>\n",
       "      <td>0.007849</td>\n",
       "      <td>0.013989</td>\n",
       "      <td>0.006381</td>\n",
       "    </tr>\n",
       "    <tr>\n",
       "      <th>Experience</th>\n",
       "      <td>0.994221</td>\n",
       "      <td>1.000000</td>\n",
       "      <td>-0.048277</td>\n",
       "      <td>-0.051718</td>\n",
       "      <td>-0.050610</td>\n",
       "      <td>0.014166</td>\n",
       "      <td>-0.011083</td>\n",
       "      <td>-0.007708</td>\n",
       "      <td>-0.001529</td>\n",
       "      <td>0.010151</td>\n",
       "      <td>0.014245</td>\n",
       "      <td>0.007628</td>\n",
       "    </tr>\n",
       "    <tr>\n",
       "      <th>Income</th>\n",
       "      <td>-0.056897</td>\n",
       "      <td>-0.048277</td>\n",
       "      <td>1.000000</td>\n",
       "      <td>-0.157922</td>\n",
       "      <td>0.646073</td>\n",
       "      <td>-0.186847</td>\n",
       "      <td>0.206420</td>\n",
       "      <td>0.502513</td>\n",
       "      <td>-0.002992</td>\n",
       "      <td>0.169589</td>\n",
       "      <td>0.014646</td>\n",
       "      <td>-0.003479</td>\n",
       "    </tr>\n",
       "    <tr>\n",
       "      <th>Family</th>\n",
       "      <td>-0.045533</td>\n",
       "      <td>-0.051718</td>\n",
       "      <td>-0.157922</td>\n",
       "      <td>1.000000</td>\n",
       "      <td>-0.109812</td>\n",
       "      <td>0.066145</td>\n",
       "      <td>-0.020595</td>\n",
       "      <td>0.061398</td>\n",
       "      <td>0.019957</td>\n",
       "      <td>0.014081</td>\n",
       "      <td>0.009907</td>\n",
       "      <td>0.012018</td>\n",
       "    </tr>\n",
       "    <tr>\n",
       "      <th>CCAvg</th>\n",
       "      <td>-0.052540</td>\n",
       "      <td>-0.050610</td>\n",
       "      <td>0.646073</td>\n",
       "      <td>-0.109812</td>\n",
       "      <td>1.000000</td>\n",
       "      <td>-0.135299</td>\n",
       "      <td>0.109166</td>\n",
       "      <td>0.366672</td>\n",
       "      <td>0.014573</td>\n",
       "      <td>0.136244</td>\n",
       "      <td>-0.002727</td>\n",
       "      <td>-0.007404</td>\n",
       "    </tr>\n",
       "    <tr>\n",
       "      <th>Education</th>\n",
       "      <td>0.042356</td>\n",
       "      <td>0.014166</td>\n",
       "      <td>-0.186847</td>\n",
       "      <td>0.066145</td>\n",
       "      <td>-0.135299</td>\n",
       "      <td>1.000000</td>\n",
       "      <td>-0.032256</td>\n",
       "      <td>0.137618</td>\n",
       "      <td>-0.010132</td>\n",
       "      <td>0.014475</td>\n",
       "      <td>-0.015633</td>\n",
       "      <td>-0.010307</td>\n",
       "    </tr>\n",
       "    <tr>\n",
       "      <th>Mortgage</th>\n",
       "      <td>-0.013014</td>\n",
       "      <td>-0.011083</td>\n",
       "      <td>0.206420</td>\n",
       "      <td>-0.020595</td>\n",
       "      <td>0.109166</td>\n",
       "      <td>-0.032256</td>\n",
       "      <td>1.000000</td>\n",
       "      <td>0.141700</td>\n",
       "      <td>-0.005909</td>\n",
       "      <td>0.088987</td>\n",
       "      <td>-0.005266</td>\n",
       "      <td>-0.007930</td>\n",
       "    </tr>\n",
       "    <tr>\n",
       "      <th>Personal Loan</th>\n",
       "      <td>-0.008003</td>\n",
       "      <td>-0.007708</td>\n",
       "      <td>0.502513</td>\n",
       "      <td>0.061398</td>\n",
       "      <td>0.366672</td>\n",
       "      <td>0.137618</td>\n",
       "      <td>0.141700</td>\n",
       "      <td>1.000000</td>\n",
       "      <td>0.021670</td>\n",
       "      <td>0.316210</td>\n",
       "      <td>0.006718</td>\n",
       "      <td>0.002399</td>\n",
       "    </tr>\n",
       "    <tr>\n",
       "      <th>Securities Account</th>\n",
       "      <td>-0.000715</td>\n",
       "      <td>-0.001529</td>\n",
       "      <td>-0.002992</td>\n",
       "      <td>0.019957</td>\n",
       "      <td>0.014573</td>\n",
       "      <td>-0.010132</td>\n",
       "      <td>-0.005909</td>\n",
       "      <td>0.021670</td>\n",
       "      <td>1.000000</td>\n",
       "      <td>0.316883</td>\n",
       "      <td>0.013096</td>\n",
       "      <td>-0.015466</td>\n",
       "    </tr>\n",
       "    <tr>\n",
       "      <th>CD Account</th>\n",
       "      <td>0.007849</td>\n",
       "      <td>0.010151</td>\n",
       "      <td>0.169589</td>\n",
       "      <td>0.014081</td>\n",
       "      <td>0.136244</td>\n",
       "      <td>0.014475</td>\n",
       "      <td>0.088987</td>\n",
       "      <td>0.316210</td>\n",
       "      <td>0.316883</td>\n",
       "      <td>1.000000</td>\n",
       "      <td>0.176414</td>\n",
       "      <td>0.278559</td>\n",
       "    </tr>\n",
       "    <tr>\n",
       "      <th>Online</th>\n",
       "      <td>0.013989</td>\n",
       "      <td>0.014245</td>\n",
       "      <td>0.014646</td>\n",
       "      <td>0.009907</td>\n",
       "      <td>-0.002727</td>\n",
       "      <td>-0.015633</td>\n",
       "      <td>-0.005266</td>\n",
       "      <td>0.006718</td>\n",
       "      <td>0.013096</td>\n",
       "      <td>0.176414</td>\n",
       "      <td>1.000000</td>\n",
       "      <td>0.004712</td>\n",
       "    </tr>\n",
       "    <tr>\n",
       "      <th>CreditCard</th>\n",
       "      <td>0.006381</td>\n",
       "      <td>0.007628</td>\n",
       "      <td>-0.003479</td>\n",
       "      <td>0.012018</td>\n",
       "      <td>-0.007404</td>\n",
       "      <td>-0.010307</td>\n",
       "      <td>-0.007930</td>\n",
       "      <td>0.002399</td>\n",
       "      <td>-0.015466</td>\n",
       "      <td>0.278559</td>\n",
       "      <td>0.004712</td>\n",
       "      <td>1.000000</td>\n",
       "    </tr>\n",
       "  </tbody>\n",
       "</table>\n",
       "</div>"
      ],
      "text/plain": [
       "                         Age  Experience    Income    Family     CCAvg  \\\n",
       "Age                 1.000000    0.994221 -0.056897 -0.045533 -0.052540   \n",
       "Experience          0.994221    1.000000 -0.048277 -0.051718 -0.050610   \n",
       "Income             -0.056897   -0.048277  1.000000 -0.157922  0.646073   \n",
       "Family             -0.045533   -0.051718 -0.157922  1.000000 -0.109812   \n",
       "CCAvg              -0.052540   -0.050610  0.646073 -0.109812  1.000000   \n",
       "Education           0.042356    0.014166 -0.186847  0.066145 -0.135299   \n",
       "Mortgage           -0.013014   -0.011083  0.206420 -0.020595  0.109166   \n",
       "Personal Loan      -0.008003   -0.007708  0.502513  0.061398  0.366672   \n",
       "Securities Account -0.000715   -0.001529 -0.002992  0.019957  0.014573   \n",
       "CD Account          0.007849    0.010151  0.169589  0.014081  0.136244   \n",
       "Online              0.013989    0.014245  0.014646  0.009907 -0.002727   \n",
       "CreditCard          0.006381    0.007628 -0.003479  0.012018 -0.007404   \n",
       "\n",
       "                    Education  Mortgage  Personal Loan  Securities Account  \\\n",
       "Age                  0.042356 -0.013014      -0.008003           -0.000715   \n",
       "Experience           0.014166 -0.011083      -0.007708           -0.001529   \n",
       "Income              -0.186847  0.206420       0.502513           -0.002992   \n",
       "Family               0.066145 -0.020595       0.061398            0.019957   \n",
       "CCAvg               -0.135299  0.109166       0.366672            0.014573   \n",
       "Education            1.000000 -0.032256       0.137618           -0.010132   \n",
       "Mortgage            -0.032256  1.000000       0.141700           -0.005909   \n",
       "Personal Loan        0.137618  0.141700       1.000000            0.021670   \n",
       "Securities Account  -0.010132 -0.005909       0.021670            1.000000   \n",
       "CD Account           0.014475  0.088987       0.316210            0.316883   \n",
       "Online              -0.015633 -0.005266       0.006718            0.013096   \n",
       "CreditCard          -0.010307 -0.007930       0.002399           -0.015466   \n",
       "\n",
       "                    CD Account    Online  CreditCard  \n",
       "Age                   0.007849  0.013989    0.006381  \n",
       "Experience            0.010151  0.014245    0.007628  \n",
       "Income                0.169589  0.014646   -0.003479  \n",
       "Family                0.014081  0.009907    0.012018  \n",
       "CCAvg                 0.136244 -0.002727   -0.007404  \n",
       "Education             0.014475 -0.015633   -0.010307  \n",
       "Mortgage              0.088987 -0.005266   -0.007930  \n",
       "Personal Loan         0.316210  0.006718    0.002399  \n",
       "Securities Account    0.316883  0.013096   -0.015466  \n",
       "CD Account            1.000000  0.176414    0.278559  \n",
       "Online                0.176414  1.000000    0.004712  \n",
       "CreditCard            0.278559  0.004712    1.000000  "
      ]
     },
     "execution_count": 65,
     "metadata": {},
     "output_type": "execute_result"
    }
   ],
   "source": [
    "dataset3.corr()\n"
   ]
  },
  {
   "cell_type": "code",
   "execution_count": 66,
   "id": "42202cd3",
   "metadata": {},
   "outputs": [],
   "source": [
    "import statsmodels.api as sm"
   ]
  },
  {
   "cell_type": "code",
   "execution_count": 71,
   "id": "1dff0860",
   "metadata": {},
   "outputs": [],
   "source": [
    "Y=dataset3['Personal Loan']"
   ]
  },
  {
   "cell_type": "code",
   "execution_count": 72,
   "id": "6ccc62ca",
   "metadata": {},
   "outputs": [],
   "source": [
    "X=dataset3[['Age', 'Experience', 'Income', 'Family', 'CCAvg', 'Education',\n",
    "       'Mortgage', 'Securities Account', 'CD Account',\n",
    "       'Online', 'CreditCard']]"
   ]
  },
  {
   "cell_type": "code",
   "execution_count": 73,
   "id": "8b1d286a",
   "metadata": {},
   "outputs": [],
   "source": [
    "X1=sm.add_constant(X)"
   ]
  },
  {
   "cell_type": "code",
   "execution_count": 77,
   "id": "041fd86e",
   "metadata": {},
   "outputs": [],
   "source": [
    "Logistic=sm.Logit(Y,X1)"
   ]
  },
  {
   "cell_type": "code",
   "execution_count": 78,
   "id": "e0ca3b76",
   "metadata": {},
   "outputs": [
    {
     "name": "stdout",
     "output_type": "stream",
     "text": [
      "Optimization terminated successfully.\n",
      "         Current function value: 0.128720\n",
      "         Iterations 9\n"
     ]
    }
   ],
   "source": [
    "result=Logistic.fit()"
   ]
  },
  {
   "cell_type": "code",
   "execution_count": 79,
   "id": "272f0eec",
   "metadata": {},
   "outputs": [
    {
     "data": {
      "text/html": [
       "<table class=\"simpletable\">\n",
       "<caption>Logit Regression Results</caption>\n",
       "<tr>\n",
       "  <th>Dep. Variable:</th>     <td>Personal Loan</td>  <th>  No. Observations:  </th>  <td>  4987</td> \n",
       "</tr>\n",
       "<tr>\n",
       "  <th>Model:</th>                 <td>Logit</td>      <th>  Df Residuals:      </th>  <td>  4975</td> \n",
       "</tr>\n",
       "<tr>\n",
       "  <th>Method:</th>                 <td>MLE</td>       <th>  Df Model:          </th>  <td>    11</td> \n",
       "</tr>\n",
       "<tr>\n",
       "  <th>Date:</th>            <td>Sat, 23 Jul 2022</td> <th>  Pseudo R-squ.:     </th>  <td>0.5936</td> \n",
       "</tr>\n",
       "<tr>\n",
       "  <th>Time:</th>                <td>10:08:38</td>     <th>  Log-Likelihood:    </th> <td> -641.93</td>\n",
       "</tr>\n",
       "<tr>\n",
       "  <th>converged:</th>             <td>True</td>       <th>  LL-Null:           </th> <td> -1579.7</td>\n",
       "</tr>\n",
       "<tr>\n",
       "  <th>Covariance Type:</th>     <td>nonrobust</td>    <th>  LLR p-value:       </th>  <td> 0.000</td> \n",
       "</tr>\n",
       "</table>\n",
       "<table class=\"simpletable\">\n",
       "<tr>\n",
       "           <td></td>             <th>coef</th>     <th>std err</th>      <th>z</th>      <th>P>|z|</th>  <th>[0.025</th>    <th>0.975]</th>  \n",
       "</tr>\n",
       "<tr>\n",
       "  <th>const</th>              <td>  -12.1727</td> <td>    1.645</td> <td>   -7.399</td> <td> 0.000</td> <td>  -15.397</td> <td>   -8.948</td>\n",
       "</tr>\n",
       "<tr>\n",
       "  <th>Age</th>                <td>   -0.0541</td> <td>    0.061</td> <td>   -0.882</td> <td> 0.378</td> <td>   -0.174</td> <td>    0.066</td>\n",
       "</tr>\n",
       "<tr>\n",
       "  <th>Experience</th>         <td>    0.0642</td> <td>    0.061</td> <td>    1.054</td> <td> 0.292</td> <td>   -0.055</td> <td>    0.184</td>\n",
       "</tr>\n",
       "<tr>\n",
       "  <th>Income</th>             <td>    0.0545</td> <td>    0.003</td> <td>   20.822</td> <td> 0.000</td> <td>    0.049</td> <td>    0.060</td>\n",
       "</tr>\n",
       "<tr>\n",
       "  <th>Family</th>             <td>    0.6947</td> <td>    0.074</td> <td>    9.348</td> <td> 0.000</td> <td>    0.549</td> <td>    0.840</td>\n",
       "</tr>\n",
       "<tr>\n",
       "  <th>CCAvg</th>              <td>    0.1236</td> <td>    0.040</td> <td>    3.117</td> <td> 0.002</td> <td>    0.046</td> <td>    0.201</td>\n",
       "</tr>\n",
       "<tr>\n",
       "  <th>Education</th>          <td>    1.7363</td> <td>    0.115</td> <td>   15.091</td> <td> 0.000</td> <td>    1.511</td> <td>    1.962</td>\n",
       "</tr>\n",
       "<tr>\n",
       "  <th>Mortgage</th>           <td>    0.0005</td> <td>    0.001</td> <td>    0.848</td> <td> 0.396</td> <td>   -0.001</td> <td>    0.002</td>\n",
       "</tr>\n",
       "<tr>\n",
       "  <th>Securities Account</th> <td>   -0.9371</td> <td>    0.286</td> <td>   -3.280</td> <td> 0.001</td> <td>   -1.497</td> <td>   -0.377</td>\n",
       "</tr>\n",
       "<tr>\n",
       "  <th>CD Account</th>         <td>    3.8181</td> <td>    0.324</td> <td>   11.788</td> <td> 0.000</td> <td>    3.183</td> <td>    4.453</td>\n",
       "</tr>\n",
       "<tr>\n",
       "  <th>Online</th>             <td>   -0.6724</td> <td>    0.157</td> <td>   -4.280</td> <td> 0.000</td> <td>   -0.980</td> <td>   -0.364</td>\n",
       "</tr>\n",
       "<tr>\n",
       "  <th>CreditCard</th>         <td>   -1.1181</td> <td>    0.205</td> <td>   -5.454</td> <td> 0.000</td> <td>   -1.520</td> <td>   -0.716</td>\n",
       "</tr>\n",
       "</table>"
      ],
      "text/plain": [
       "<class 'statsmodels.iolib.summary.Summary'>\n",
       "\"\"\"\n",
       "                           Logit Regression Results                           \n",
       "==============================================================================\n",
       "Dep. Variable:          Personal Loan   No. Observations:                 4987\n",
       "Model:                          Logit   Df Residuals:                     4975\n",
       "Method:                           MLE   Df Model:                           11\n",
       "Date:                Sat, 23 Jul 2022   Pseudo R-squ.:                  0.5936\n",
       "Time:                        10:08:38   Log-Likelihood:                -641.93\n",
       "converged:                       True   LL-Null:                       -1579.7\n",
       "Covariance Type:            nonrobust   LLR p-value:                     0.000\n",
       "======================================================================================\n",
       "                         coef    std err          z      P>|z|      [0.025      0.975]\n",
       "--------------------------------------------------------------------------------------\n",
       "const                -12.1727      1.645     -7.399      0.000     -15.397      -8.948\n",
       "Age                   -0.0541      0.061     -0.882      0.378      -0.174       0.066\n",
       "Experience             0.0642      0.061      1.054      0.292      -0.055       0.184\n",
       "Income                 0.0545      0.003     20.822      0.000       0.049       0.060\n",
       "Family                 0.6947      0.074      9.348      0.000       0.549       0.840\n",
       "CCAvg                  0.1236      0.040      3.117      0.002       0.046       0.201\n",
       "Education              1.7363      0.115     15.091      0.000       1.511       1.962\n",
       "Mortgage               0.0005      0.001      0.848      0.396      -0.001       0.002\n",
       "Securities Account    -0.9371      0.286     -3.280      0.001      -1.497      -0.377\n",
       "CD Account             3.8181      0.324     11.788      0.000       3.183       4.453\n",
       "Online                -0.6724      0.157     -4.280      0.000      -0.980      -0.364\n",
       "CreditCard            -1.1181      0.205     -5.454      0.000      -1.520      -0.716\n",
       "======================================================================================\n",
       "\"\"\""
      ]
     },
     "execution_count": 79,
     "metadata": {},
     "output_type": "execute_result"
    }
   ],
   "source": [
    "result.summary()"
   ]
  },
  {
   "cell_type": "code",
   "execution_count": null,
   "id": "ea8eb1a7",
   "metadata": {},
   "outputs": [],
   "source": []
  },
  {
   "cell_type": "code",
   "execution_count": null,
   "id": "fcd91168",
   "metadata": {},
   "outputs": [],
   "source": []
  },
  {
   "cell_type": "code",
   "execution_count": null,
   "id": "a134f1c8",
   "metadata": {},
   "outputs": [],
   "source": []
  },
  {
   "cell_type": "code",
   "execution_count": null,
   "id": "f2637e92",
   "metadata": {},
   "outputs": [],
   "source": []
  },
  {
   "cell_type": "code",
   "execution_count": null,
   "id": "62789779",
   "metadata": {},
   "outputs": [],
   "source": []
  },
  {
   "cell_type": "code",
   "execution_count": null,
   "id": "03a40c77",
   "metadata": {},
   "outputs": [],
   "source": []
  },
  {
   "cell_type": "code",
   "execution_count": null,
   "id": "6f0d7182",
   "metadata": {},
   "outputs": [],
   "source": []
  },
  {
   "cell_type": "code",
   "execution_count": null,
   "id": "312b03a4",
   "metadata": {},
   "outputs": [],
   "source": []
  },
  {
   "cell_type": "code",
   "execution_count": null,
   "id": "111f151a",
   "metadata": {},
   "outputs": [],
   "source": []
  },
  {
   "cell_type": "code",
   "execution_count": null,
   "id": "6fd4d02b",
   "metadata": {},
   "outputs": [],
   "source": []
  },
  {
   "cell_type": "code",
   "execution_count": null,
   "id": "aa68d5b2",
   "metadata": {},
   "outputs": [],
   "source": []
  }
 ],
 "metadata": {
  "kernelspec": {
   "display_name": "Python 3 (ipykernel)",
   "language": "python",
   "name": "python3"
  },
  "language_info": {
   "codemirror_mode": {
    "name": "ipython",
    "version": 3
   },
   "file_extension": ".py",
   "mimetype": "text/x-python",
   "name": "python",
   "nbconvert_exporter": "python",
   "pygments_lexer": "ipython3",
   "version": "3.9.12"
  }
 },
 "nbformat": 4,
 "nbformat_minor": 5
}
