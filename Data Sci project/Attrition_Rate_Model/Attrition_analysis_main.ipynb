{
 "cells": [
  {
   "cell_type": "code",
   "execution_count": 49,
   "id": "163e4990",
   "metadata": {},
   "outputs": [],
   "source": [
    "import pandas as pd\n",
    "from sklearn import preprocessing\n",
    "import matplotlib.pyplot as plt\n",
    "from scipy.stats import ttest_ind"
   ]
  },
  {
   "cell_type": "code",
   "execution_count": 50,
   "id": "4998fab4",
   "metadata": {},
   "outputs": [],
   "source": [
    "dataset=pd.read_csv(\"Attrition Rate Analysis (1).csv\")"
   ]
  },
  {
   "cell_type": "code",
   "execution_count": 51,
   "id": "b63fa0aa",
   "metadata": {},
   "outputs": [
    {
     "data": {
      "text/plain": [
       "Index(['Age', 'Attrition', 'BusinessTravel', 'Department', 'DistanceFromHome',\n",
       "       'Education', 'EducationField', 'EmployeeCount', 'EmployeeID', 'Gender',\n",
       "       'JobLevel', 'JobRole', 'MaritalStatus', 'MonthlyIncome',\n",
       "       'NumCompaniesWorked', 'Over18', 'PercentSalaryHike', 'StandardHours',\n",
       "       'StockOptionLevel', 'TotalWorkingYears', 'TrainingTimesLastYear',\n",
       "       'YearsAtCompany', 'YearsSinceLastPromotion', 'YearsWithCurrManager'],\n",
       "      dtype='object')"
      ]
     },
     "execution_count": 51,
     "metadata": {},
     "output_type": "execute_result"
    }
   ],
   "source": [
    "dataset.columns"
   ]
  },
  {
   "cell_type": "code",
   "execution_count": 52,
   "id": "ce27483e",
   "metadata": {},
   "outputs": [],
   "source": [
    "dataset1=dataset.drop([ 'EmployeeID','Over18'],axis=1)"
   ]
  },
  {
   "cell_type": "code",
   "execution_count": 53,
   "id": "62ea56a8",
   "metadata": {},
   "outputs": [
    {
     "data": {
      "text/plain": [
       "Index(['Age', 'Attrition', 'BusinessTravel', 'Department', 'DistanceFromHome',\n",
       "       'Education', 'EducationField', 'EmployeeCount', 'Gender', 'JobLevel',\n",
       "       'JobRole', 'MaritalStatus', 'MonthlyIncome', 'NumCompaniesWorked',\n",
       "       'PercentSalaryHike', 'StandardHours', 'StockOptionLevel',\n",
       "       'TotalWorkingYears', 'TrainingTimesLastYear', 'YearsAtCompany',\n",
       "       'YearsSinceLastPromotion', 'YearsWithCurrManager'],\n",
       "      dtype='object')"
      ]
     },
     "execution_count": 53,
     "metadata": {},
     "output_type": "execute_result"
    }
   ],
   "source": [
    "dataset1.columns"
   ]
  },
  {
   "cell_type": "code",
   "execution_count": 54,
   "id": "813177d2",
   "metadata": {},
   "outputs": [],
   "source": [
    "dataset2=dataset1.dropna()"
   ]
  },
  {
   "cell_type": "code",
   "execution_count": 55,
   "id": "1b8b018c",
   "metadata": {},
   "outputs": [],
   "source": [
    "dataset3=dataset2.drop_duplicates()"
   ]
  },
  {
   "cell_type": "code",
   "execution_count": 56,
   "id": "ae2081d4",
   "metadata": {},
   "outputs": [],
   "source": [
    "le=preprocessing.LabelEncoder()"
   ]
  },
  {
   "cell_type": "code",
   "execution_count": 57,
   "id": "aa79ceaf",
   "metadata": {},
   "outputs": [
    {
     "name": "stderr",
     "output_type": "stream",
     "text": [
      "C:\\Users\\Public\\Documents\\iSkysoft\\CreatorTemp/ipykernel_2800/1587624394.py:1: SettingWithCopyWarning: \n",
      "A value is trying to be set on a copy of a slice from a DataFrame.\n",
      "Try using .loc[row_indexer,col_indexer] = value instead\n",
      "\n",
      "See the caveats in the documentation: https://pandas.pydata.org/pandas-docs/stable/user_guide/indexing.html#returning-a-view-versus-a-copy\n",
      "  dataset3[\"Gender\"]=le.fit_transform(dataset3[\"Gender\"])\n"
     ]
    }
   ],
   "source": [
    "dataset3[\"Gender\"]=le.fit_transform(dataset3[\"Gender\"])"
   ]
  },
  {
   "cell_type": "code",
   "execution_count": 58,
   "id": "23e93b42",
   "metadata": {},
   "outputs": [
    {
     "data": {
      "text/html": [
       "<div>\n",
       "<style scoped>\n",
       "    .dataframe tbody tr th:only-of-type {\n",
       "        vertical-align: middle;\n",
       "    }\n",
       "\n",
       "    .dataframe tbody tr th {\n",
       "        vertical-align: top;\n",
       "    }\n",
       "\n",
       "    .dataframe thead th {\n",
       "        text-align: right;\n",
       "    }\n",
       "</style>\n",
       "<table border=\"1\" class=\"dataframe\">\n",
       "  <thead>\n",
       "    <tr style=\"text-align: right;\">\n",
       "      <th></th>\n",
       "      <th>Age</th>\n",
       "      <th>Attrition</th>\n",
       "      <th>BusinessTravel</th>\n",
       "      <th>Department</th>\n",
       "      <th>DistanceFromHome</th>\n",
       "      <th>Education</th>\n",
       "      <th>EducationField</th>\n",
       "      <th>EmployeeCount</th>\n",
       "      <th>Gender</th>\n",
       "      <th>JobLevel</th>\n",
       "      <th>...</th>\n",
       "      <th>MonthlyIncome</th>\n",
       "      <th>NumCompaniesWorked</th>\n",
       "      <th>PercentSalaryHike</th>\n",
       "      <th>StandardHours</th>\n",
       "      <th>StockOptionLevel</th>\n",
       "      <th>TotalWorkingYears</th>\n",
       "      <th>TrainingTimesLastYear</th>\n",
       "      <th>YearsAtCompany</th>\n",
       "      <th>YearsSinceLastPromotion</th>\n",
       "      <th>YearsWithCurrManager</th>\n",
       "    </tr>\n",
       "  </thead>\n",
       "  <tbody>\n",
       "    <tr>\n",
       "      <th>0</th>\n",
       "      <td>51</td>\n",
       "      <td>No</td>\n",
       "      <td>Travel_Rarely</td>\n",
       "      <td>Sales</td>\n",
       "      <td>6</td>\n",
       "      <td>2</td>\n",
       "      <td>Life Sciences</td>\n",
       "      <td>1</td>\n",
       "      <td>0</td>\n",
       "      <td>1</td>\n",
       "      <td>...</td>\n",
       "      <td>131160</td>\n",
       "      <td>1.0</td>\n",
       "      <td>11</td>\n",
       "      <td>8</td>\n",
       "      <td>0</td>\n",
       "      <td>1.0</td>\n",
       "      <td>6</td>\n",
       "      <td>1</td>\n",
       "      <td>0</td>\n",
       "      <td>0</td>\n",
       "    </tr>\n",
       "    <tr>\n",
       "      <th>1</th>\n",
       "      <td>31</td>\n",
       "      <td>Yes</td>\n",
       "      <td>Travel_Frequently</td>\n",
       "      <td>Research &amp; Development</td>\n",
       "      <td>10</td>\n",
       "      <td>1</td>\n",
       "      <td>Life Sciences</td>\n",
       "      <td>1</td>\n",
       "      <td>0</td>\n",
       "      <td>1</td>\n",
       "      <td>...</td>\n",
       "      <td>41890</td>\n",
       "      <td>0.0</td>\n",
       "      <td>23</td>\n",
       "      <td>8</td>\n",
       "      <td>1</td>\n",
       "      <td>6.0</td>\n",
       "      <td>3</td>\n",
       "      <td>5</td>\n",
       "      <td>1</td>\n",
       "      <td>4</td>\n",
       "    </tr>\n",
       "    <tr>\n",
       "      <th>2</th>\n",
       "      <td>32</td>\n",
       "      <td>No</td>\n",
       "      <td>Travel_Frequently</td>\n",
       "      <td>Research &amp; Development</td>\n",
       "      <td>17</td>\n",
       "      <td>4</td>\n",
       "      <td>Other</td>\n",
       "      <td>1</td>\n",
       "      <td>1</td>\n",
       "      <td>4</td>\n",
       "      <td>...</td>\n",
       "      <td>193280</td>\n",
       "      <td>1.0</td>\n",
       "      <td>15</td>\n",
       "      <td>8</td>\n",
       "      <td>3</td>\n",
       "      <td>5.0</td>\n",
       "      <td>2</td>\n",
       "      <td>5</td>\n",
       "      <td>0</td>\n",
       "      <td>3</td>\n",
       "    </tr>\n",
       "    <tr>\n",
       "      <th>3</th>\n",
       "      <td>38</td>\n",
       "      <td>No</td>\n",
       "      <td>Non-Travel</td>\n",
       "      <td>Research &amp; Development</td>\n",
       "      <td>2</td>\n",
       "      <td>5</td>\n",
       "      <td>Life Sciences</td>\n",
       "      <td>1</td>\n",
       "      <td>1</td>\n",
       "      <td>3</td>\n",
       "      <td>...</td>\n",
       "      <td>83210</td>\n",
       "      <td>3.0</td>\n",
       "      <td>11</td>\n",
       "      <td>8</td>\n",
       "      <td>3</td>\n",
       "      <td>13.0</td>\n",
       "      <td>5</td>\n",
       "      <td>8</td>\n",
       "      <td>7</td>\n",
       "      <td>5</td>\n",
       "    </tr>\n",
       "    <tr>\n",
       "      <th>4</th>\n",
       "      <td>32</td>\n",
       "      <td>No</td>\n",
       "      <td>Travel_Rarely</td>\n",
       "      <td>Research &amp; Development</td>\n",
       "      <td>10</td>\n",
       "      <td>1</td>\n",
       "      <td>Medical</td>\n",
       "      <td>1</td>\n",
       "      <td>1</td>\n",
       "      <td>1</td>\n",
       "      <td>...</td>\n",
       "      <td>23420</td>\n",
       "      <td>4.0</td>\n",
       "      <td>12</td>\n",
       "      <td>8</td>\n",
       "      <td>2</td>\n",
       "      <td>9.0</td>\n",
       "      <td>2</td>\n",
       "      <td>6</td>\n",
       "      <td>0</td>\n",
       "      <td>4</td>\n",
       "    </tr>\n",
       "  </tbody>\n",
       "</table>\n",
       "<p>5 rows × 22 columns</p>\n",
       "</div>"
      ],
      "text/plain": [
       "   Age Attrition     BusinessTravel              Department  DistanceFromHome  \\\n",
       "0   51        No      Travel_Rarely                   Sales                 6   \n",
       "1   31       Yes  Travel_Frequently  Research & Development                10   \n",
       "2   32        No  Travel_Frequently  Research & Development                17   \n",
       "3   38        No         Non-Travel  Research & Development                 2   \n",
       "4   32        No      Travel_Rarely  Research & Development                10   \n",
       "\n",
       "   Education EducationField  EmployeeCount  Gender  JobLevel  ...  \\\n",
       "0          2  Life Sciences              1       0         1  ...   \n",
       "1          1  Life Sciences              1       0         1  ...   \n",
       "2          4          Other              1       1         4  ...   \n",
       "3          5  Life Sciences              1       1         3  ...   \n",
       "4          1        Medical              1       1         1  ...   \n",
       "\n",
       "  MonthlyIncome NumCompaniesWorked  PercentSalaryHike  StandardHours  \\\n",
       "0        131160                1.0                 11              8   \n",
       "1         41890                0.0                 23              8   \n",
       "2        193280                1.0                 15              8   \n",
       "3         83210                3.0                 11              8   \n",
       "4         23420                4.0                 12              8   \n",
       "\n",
       "   StockOptionLevel  TotalWorkingYears  TrainingTimesLastYear  YearsAtCompany  \\\n",
       "0                 0                1.0                      6               1   \n",
       "1                 1                6.0                      3               5   \n",
       "2                 3                5.0                      2               5   \n",
       "3                 3               13.0                      5               8   \n",
       "4                 2                9.0                      2               6   \n",
       "\n",
       "   YearsSinceLastPromotion  YearsWithCurrManager  \n",
       "0                        0                     0  \n",
       "1                        1                     4  \n",
       "2                        0                     3  \n",
       "3                        7                     5  \n",
       "4                        0                     4  \n",
       "\n",
       "[5 rows x 22 columns]"
      ]
     },
     "execution_count": 58,
     "metadata": {},
     "output_type": "execute_result"
    }
   ],
   "source": [
    "dataset3.head()"
   ]
  },
  {
   "cell_type": "code",
   "execution_count": 114,
   "id": "0ee4f84e",
   "metadata": {},
   "outputs": [
    {
     "name": "stderr",
     "output_type": "stream",
     "text": [
      "C:\\Users\\Public\\Documents\\iSkysoft\\CreatorTemp/ipykernel_2800/63025535.py:1: SettingWithCopyWarning: \n",
      "A value is trying to be set on a copy of a slice from a DataFrame.\n",
      "Try using .loc[row_indexer,col_indexer] = value instead\n",
      "\n",
      "See the caveats in the documentation: https://pandas.pydata.org/pandas-docs/stable/user_guide/indexing.html#returning-a-view-versus-a-copy\n",
      "  dataset3['Attrition']=le.fit_transform(dataset3[\"Attrition\"] )\n"
     ]
    }
   ],
   "source": [
    "dataset3['Attrition']=le.fit_transform(dataset3[\"Attrition\"] )"
   ]
  },
  {
   "cell_type": "code",
   "execution_count": 115,
   "id": "83d84c6f",
   "metadata": {
    "scrolled": false
   },
   "outputs": [
    {
     "name": "stderr",
     "output_type": "stream",
     "text": [
      "C:\\Users\\Public\\Documents\\iSkysoft\\CreatorTemp/ipykernel_2800/2274895374.py:1: SettingWithCopyWarning: \n",
      "A value is trying to be set on a copy of a slice from a DataFrame.\n",
      "Try using .loc[row_indexer,col_indexer] = value instead\n",
      "\n",
      "See the caveats in the documentation: https://pandas.pydata.org/pandas-docs/stable/user_guide/indexing.html#returning-a-view-versus-a-copy\n",
      "  dataset3['MaritalStatus']=le.fit_transform(dataset3[\"MaritalStatus\"])\n"
     ]
    }
   ],
   "source": [
    "dataset3['MaritalStatus']=le.fit_transform(dataset3[\"MaritalStatus\"])"
   ]
  },
  {
   "cell_type": "code",
   "execution_count": 116,
   "id": "150f295f",
   "metadata": {
    "scrolled": false
   },
   "outputs": [
    {
     "name": "stderr",
     "output_type": "stream",
     "text": [
      "C:\\Users\\Public\\Documents\\iSkysoft\\CreatorTemp/ipykernel_2800/896704778.py:1: SettingWithCopyWarning: \n",
      "A value is trying to be set on a copy of a slice from a DataFrame.\n",
      "Try using .loc[row_indexer,col_indexer] = value instead\n",
      "\n",
      "See the caveats in the documentation: https://pandas.pydata.org/pandas-docs/stable/user_guide/indexing.html#returning-a-view-versus-a-copy\n",
      "  dataset3['BusinessTravel']=le.fit_transform(dataset3[\"BusinessTravel\"])\n"
     ]
    }
   ],
   "source": [
    "dataset3['BusinessTravel']=le.fit_transform(dataset3[\"BusinessTravel\"])"
   ]
  },
  {
   "cell_type": "code",
   "execution_count": 117,
   "id": "023e1d63",
   "metadata": {
    "scrolled": false
   },
   "outputs": [
    {
     "name": "stderr",
     "output_type": "stream",
     "text": [
      "C:\\Users\\Public\\Documents\\iSkysoft\\CreatorTemp/ipykernel_2800/3355213878.py:1: SettingWithCopyWarning: \n",
      "A value is trying to be set on a copy of a slice from a DataFrame.\n",
      "Try using .loc[row_indexer,col_indexer] = value instead\n",
      "\n",
      "See the caveats in the documentation: https://pandas.pydata.org/pandas-docs/stable/user_guide/indexing.html#returning-a-view-versus-a-copy\n",
      "  dataset3['Department']=le.fit_transform(dataset3[\"Department\"])\n"
     ]
    }
   ],
   "source": [
    "dataset3['Department']=le.fit_transform(dataset3[\"Department\"])"
   ]
  },
  {
   "cell_type": "code",
   "execution_count": 118,
   "id": "c6be97c9",
   "metadata": {
    "scrolled": false
   },
   "outputs": [
    {
     "name": "stderr",
     "output_type": "stream",
     "text": [
      "C:\\Users\\Public\\Documents\\iSkysoft\\CreatorTemp/ipykernel_2800/2986468693.py:1: SettingWithCopyWarning: \n",
      "A value is trying to be set on a copy of a slice from a DataFrame.\n",
      "Try using .loc[row_indexer,col_indexer] = value instead\n",
      "\n",
      "See the caveats in the documentation: https://pandas.pydata.org/pandas-docs/stable/user_guide/indexing.html#returning-a-view-versus-a-copy\n",
      "  dataset3['EducationField']=le.fit_transform(dataset3[\"EducationField\"])\n"
     ]
    }
   ],
   "source": [
    "dataset3['EducationField']=le.fit_transform(dataset3[\"EducationField\"])"
   ]
  },
  {
   "cell_type": "code",
   "execution_count": 119,
   "id": "e816f607",
   "metadata": {
    "scrolled": false
   },
   "outputs": [
    {
     "name": "stderr",
     "output_type": "stream",
     "text": [
      "C:\\Users\\Public\\Documents\\iSkysoft\\CreatorTemp/ipykernel_2800/1581646276.py:1: SettingWithCopyWarning: \n",
      "A value is trying to be set on a copy of a slice from a DataFrame.\n",
      "Try using .loc[row_indexer,col_indexer] = value instead\n",
      "\n",
      "See the caveats in the documentation: https://pandas.pydata.org/pandas-docs/stable/user_guide/indexing.html#returning-a-view-versus-a-copy\n",
      "  dataset3['JobRole']=le.fit_transform(dataset3[\"JobRole\"])\n"
     ]
    }
   ],
   "source": [
    "dataset3['JobRole']=le.fit_transform(dataset3[\"JobRole\"])"
   ]
  },
  {
   "cell_type": "code",
   "execution_count": null,
   "id": "06359a04",
   "metadata": {},
   "outputs": [],
   "source": []
  },
  {
   "cell_type": "code",
   "execution_count": 120,
   "id": "929be4dd",
   "metadata": {},
   "outputs": [
    {
     "data": {
      "text/plain": [
       "65029.31292517007"
      ]
     },
     "execution_count": 120,
     "metadata": {},
     "output_type": "execute_result"
    }
   ],
   "source": [
    "dataset3['MonthlyIncome'].mean()"
   ]
  },
  {
   "cell_type": "code",
   "execution_count": 121,
   "id": "66e68e26",
   "metadata": {},
   "outputs": [
    {
     "data": {
      "text/plain": [
       "36.923809523809524"
      ]
     },
     "execution_count": 121,
     "metadata": {},
     "output_type": "execute_result"
    }
   ],
   "source": [
    "dataset3[\"Age\"].mean()"
   ]
  },
  {
   "cell_type": "code",
   "execution_count": 122,
   "id": "37857e5b",
   "metadata": {},
   "outputs": [
    {
     "data": {
      "text/plain": [
       "9.19251700680272"
      ]
     },
     "execution_count": 122,
     "metadata": {},
     "output_type": "execute_result"
    }
   ],
   "source": [
    "dataset3[\"DistanceFromHome\"].mean()"
   ]
  },
  {
   "cell_type": "code",
   "execution_count": 123,
   "id": "a684f55e",
   "metadata": {},
   "outputs": [
    {
     "data": {
      "text/plain": [
       "0    0\n",
       "dtype: int64"
      ]
     },
     "execution_count": 123,
     "metadata": {},
     "output_type": "execute_result"
    }
   ],
   "source": [
    "dataset3[\"Attrition\"].mode()"
   ]
  },
  {
   "cell_type": "code",
   "execution_count": 124,
   "id": "03161568",
   "metadata": {},
   "outputs": [
    {
     "data": {
      "text/plain": [
       "0    35\n",
       "dtype: int64"
      ]
     },
     "execution_count": 124,
     "metadata": {},
     "output_type": "execute_result"
    }
   ],
   "source": [
    "dataset3[\"Age\"].mode()"
   ]
  },
  {
   "cell_type": "code",
   "execution_count": 125,
   "id": "fe1eba67",
   "metadata": {},
   "outputs": [
    {
     "data": {
      "text/plain": [
       "0    Male\n",
       "dtype: object"
      ]
     },
     "execution_count": 125,
     "metadata": {},
     "output_type": "execute_result"
    }
   ],
   "source": [
    "dataset[\"Gender\"].mode()"
   ]
  },
  {
   "cell_type": "code",
   "execution_count": 126,
   "id": "918c1cd9",
   "metadata": {},
   "outputs": [],
   "source": [
    "Summarisation=dataset3.describe()"
   ]
  },
  {
   "cell_type": "code",
   "execution_count": 127,
   "id": "2f58145a",
   "metadata": {},
   "outputs": [
    {
     "data": {
      "text/html": [
       "<div>\n",
       "<style scoped>\n",
       "    .dataframe tbody tr th:only-of-type {\n",
       "        vertical-align: middle;\n",
       "    }\n",
       "\n",
       "    .dataframe tbody tr th {\n",
       "        vertical-align: top;\n",
       "    }\n",
       "\n",
       "    .dataframe thead th {\n",
       "        text-align: right;\n",
       "    }\n",
       "</style>\n",
       "<table border=\"1\" class=\"dataframe\">\n",
       "  <thead>\n",
       "    <tr style=\"text-align: right;\">\n",
       "      <th></th>\n",
       "      <th>Age</th>\n",
       "      <th>Attrition</th>\n",
       "      <th>BusinessTravel</th>\n",
       "      <th>Department</th>\n",
       "      <th>DistanceFromHome</th>\n",
       "      <th>Education</th>\n",
       "      <th>EducationField</th>\n",
       "      <th>EmployeeCount</th>\n",
       "      <th>Gender</th>\n",
       "      <th>JobLevel</th>\n",
       "      <th>...</th>\n",
       "      <th>MonthlyIncome</th>\n",
       "      <th>NumCompaniesWorked</th>\n",
       "      <th>PercentSalaryHike</th>\n",
       "      <th>StandardHours</th>\n",
       "      <th>StockOptionLevel</th>\n",
       "      <th>TotalWorkingYears</th>\n",
       "      <th>TrainingTimesLastYear</th>\n",
       "      <th>YearsAtCompany</th>\n",
       "      <th>YearsSinceLastPromotion</th>\n",
       "      <th>YearsWithCurrManager</th>\n",
       "    </tr>\n",
       "  </thead>\n",
       "  <tbody>\n",
       "    <tr>\n",
       "      <th>count</th>\n",
       "      <td>1470.000000</td>\n",
       "      <td>1470.000000</td>\n",
       "      <td>1470.000000</td>\n",
       "      <td>1470.000000</td>\n",
       "      <td>1470.000000</td>\n",
       "      <td>1470.000000</td>\n",
       "      <td>1470.000000</td>\n",
       "      <td>1470.0</td>\n",
       "      <td>1470.000000</td>\n",
       "      <td>1470.000000</td>\n",
       "      <td>...</td>\n",
       "      <td>1470.000000</td>\n",
       "      <td>1470.000000</td>\n",
       "      <td>1470.000000</td>\n",
       "      <td>1470.0</td>\n",
       "      <td>1470.000000</td>\n",
       "      <td>1470.000000</td>\n",
       "      <td>1470.000000</td>\n",
       "      <td>1470.000000</td>\n",
       "      <td>1470.000000</td>\n",
       "      <td>1470.000000</td>\n",
       "    </tr>\n",
       "    <tr>\n",
       "      <th>mean</th>\n",
       "      <td>36.923810</td>\n",
       "      <td>0.161224</td>\n",
       "      <td>1.607483</td>\n",
       "      <td>1.260544</td>\n",
       "      <td>9.192517</td>\n",
       "      <td>2.912925</td>\n",
       "      <td>2.247619</td>\n",
       "      <td>1.0</td>\n",
       "      <td>0.600000</td>\n",
       "      <td>2.063946</td>\n",
       "      <td>...</td>\n",
       "      <td>65029.312925</td>\n",
       "      <td>2.693197</td>\n",
       "      <td>15.209524</td>\n",
       "      <td>8.0</td>\n",
       "      <td>0.793878</td>\n",
       "      <td>11.279592</td>\n",
       "      <td>2.799320</td>\n",
       "      <td>7.008163</td>\n",
       "      <td>2.187755</td>\n",
       "      <td>4.123129</td>\n",
       "    </tr>\n",
       "    <tr>\n",
       "      <th>std</th>\n",
       "      <td>9.135373</td>\n",
       "      <td>0.367863</td>\n",
       "      <td>0.665455</td>\n",
       "      <td>0.527792</td>\n",
       "      <td>8.106864</td>\n",
       "      <td>1.024165</td>\n",
       "      <td>1.331369</td>\n",
       "      <td>0.0</td>\n",
       "      <td>0.490065</td>\n",
       "      <td>1.106940</td>\n",
       "      <td>...</td>\n",
       "      <td>47079.567831</td>\n",
       "      <td>2.498009</td>\n",
       "      <td>3.659938</td>\n",
       "      <td>0.0</td>\n",
       "      <td>0.852077</td>\n",
       "      <td>7.780782</td>\n",
       "      <td>1.289271</td>\n",
       "      <td>6.126525</td>\n",
       "      <td>3.222430</td>\n",
       "      <td>3.568136</td>\n",
       "    </tr>\n",
       "    <tr>\n",
       "      <th>min</th>\n",
       "      <td>18.000000</td>\n",
       "      <td>0.000000</td>\n",
       "      <td>0.000000</td>\n",
       "      <td>0.000000</td>\n",
       "      <td>1.000000</td>\n",
       "      <td>1.000000</td>\n",
       "      <td>0.000000</td>\n",
       "      <td>1.0</td>\n",
       "      <td>0.000000</td>\n",
       "      <td>1.000000</td>\n",
       "      <td>...</td>\n",
       "      <td>10090.000000</td>\n",
       "      <td>0.000000</td>\n",
       "      <td>11.000000</td>\n",
       "      <td>8.0</td>\n",
       "      <td>0.000000</td>\n",
       "      <td>0.000000</td>\n",
       "      <td>0.000000</td>\n",
       "      <td>0.000000</td>\n",
       "      <td>0.000000</td>\n",
       "      <td>0.000000</td>\n",
       "    </tr>\n",
       "    <tr>\n",
       "      <th>25%</th>\n",
       "      <td>30.000000</td>\n",
       "      <td>0.000000</td>\n",
       "      <td>1.000000</td>\n",
       "      <td>1.000000</td>\n",
       "      <td>2.000000</td>\n",
       "      <td>2.000000</td>\n",
       "      <td>1.000000</td>\n",
       "      <td>1.0</td>\n",
       "      <td>0.000000</td>\n",
       "      <td>1.000000</td>\n",
       "      <td>...</td>\n",
       "      <td>29110.000000</td>\n",
       "      <td>1.000000</td>\n",
       "      <td>12.000000</td>\n",
       "      <td>8.0</td>\n",
       "      <td>0.000000</td>\n",
       "      <td>6.000000</td>\n",
       "      <td>2.000000</td>\n",
       "      <td>3.000000</td>\n",
       "      <td>0.000000</td>\n",
       "      <td>2.000000</td>\n",
       "    </tr>\n",
       "    <tr>\n",
       "      <th>50%</th>\n",
       "      <td>36.000000</td>\n",
       "      <td>0.000000</td>\n",
       "      <td>2.000000</td>\n",
       "      <td>1.000000</td>\n",
       "      <td>7.000000</td>\n",
       "      <td>3.000000</td>\n",
       "      <td>2.000000</td>\n",
       "      <td>1.0</td>\n",
       "      <td>1.000000</td>\n",
       "      <td>2.000000</td>\n",
       "      <td>...</td>\n",
       "      <td>49190.000000</td>\n",
       "      <td>2.000000</td>\n",
       "      <td>14.000000</td>\n",
       "      <td>8.0</td>\n",
       "      <td>1.000000</td>\n",
       "      <td>10.000000</td>\n",
       "      <td>3.000000</td>\n",
       "      <td>5.000000</td>\n",
       "      <td>1.000000</td>\n",
       "      <td>3.000000</td>\n",
       "    </tr>\n",
       "    <tr>\n",
       "      <th>75%</th>\n",
       "      <td>43.000000</td>\n",
       "      <td>0.000000</td>\n",
       "      <td>2.000000</td>\n",
       "      <td>2.000000</td>\n",
       "      <td>14.000000</td>\n",
       "      <td>4.000000</td>\n",
       "      <td>3.000000</td>\n",
       "      <td>1.0</td>\n",
       "      <td>1.000000</td>\n",
       "      <td>3.000000</td>\n",
       "      <td>...</td>\n",
       "      <td>83790.000000</td>\n",
       "      <td>4.000000</td>\n",
       "      <td>18.000000</td>\n",
       "      <td>8.0</td>\n",
       "      <td>1.000000</td>\n",
       "      <td>15.000000</td>\n",
       "      <td>3.000000</td>\n",
       "      <td>9.000000</td>\n",
       "      <td>3.000000</td>\n",
       "      <td>7.000000</td>\n",
       "    </tr>\n",
       "    <tr>\n",
       "      <th>max</th>\n",
       "      <td>60.000000</td>\n",
       "      <td>1.000000</td>\n",
       "      <td>2.000000</td>\n",
       "      <td>2.000000</td>\n",
       "      <td>29.000000</td>\n",
       "      <td>5.000000</td>\n",
       "      <td>5.000000</td>\n",
       "      <td>1.0</td>\n",
       "      <td>1.000000</td>\n",
       "      <td>5.000000</td>\n",
       "      <td>...</td>\n",
       "      <td>199990.000000</td>\n",
       "      <td>9.000000</td>\n",
       "      <td>25.000000</td>\n",
       "      <td>8.0</td>\n",
       "      <td>3.000000</td>\n",
       "      <td>40.000000</td>\n",
       "      <td>6.000000</td>\n",
       "      <td>40.000000</td>\n",
       "      <td>15.000000</td>\n",
       "      <td>17.000000</td>\n",
       "    </tr>\n",
       "  </tbody>\n",
       "</table>\n",
       "<p>8 rows × 22 columns</p>\n",
       "</div>"
      ],
      "text/plain": [
       "               Age    Attrition  BusinessTravel   Department  \\\n",
       "count  1470.000000  1470.000000     1470.000000  1470.000000   \n",
       "mean     36.923810     0.161224        1.607483     1.260544   \n",
       "std       9.135373     0.367863        0.665455     0.527792   \n",
       "min      18.000000     0.000000        0.000000     0.000000   \n",
       "25%      30.000000     0.000000        1.000000     1.000000   \n",
       "50%      36.000000     0.000000        2.000000     1.000000   \n",
       "75%      43.000000     0.000000        2.000000     2.000000   \n",
       "max      60.000000     1.000000        2.000000     2.000000   \n",
       "\n",
       "       DistanceFromHome    Education  EducationField  EmployeeCount  \\\n",
       "count       1470.000000  1470.000000     1470.000000         1470.0   \n",
       "mean           9.192517     2.912925        2.247619            1.0   \n",
       "std            8.106864     1.024165        1.331369            0.0   \n",
       "min            1.000000     1.000000        0.000000            1.0   \n",
       "25%            2.000000     2.000000        1.000000            1.0   \n",
       "50%            7.000000     3.000000        2.000000            1.0   \n",
       "75%           14.000000     4.000000        3.000000            1.0   \n",
       "max           29.000000     5.000000        5.000000            1.0   \n",
       "\n",
       "            Gender     JobLevel  ...  MonthlyIncome  NumCompaniesWorked  \\\n",
       "count  1470.000000  1470.000000  ...    1470.000000         1470.000000   \n",
       "mean      0.600000     2.063946  ...   65029.312925            2.693197   \n",
       "std       0.490065     1.106940  ...   47079.567831            2.498009   \n",
       "min       0.000000     1.000000  ...   10090.000000            0.000000   \n",
       "25%       0.000000     1.000000  ...   29110.000000            1.000000   \n",
       "50%       1.000000     2.000000  ...   49190.000000            2.000000   \n",
       "75%       1.000000     3.000000  ...   83790.000000            4.000000   \n",
       "max       1.000000     5.000000  ...  199990.000000            9.000000   \n",
       "\n",
       "       PercentSalaryHike  StandardHours  StockOptionLevel  TotalWorkingYears  \\\n",
       "count        1470.000000         1470.0       1470.000000        1470.000000   \n",
       "mean           15.209524            8.0          0.793878          11.279592   \n",
       "std             3.659938            0.0          0.852077           7.780782   \n",
       "min            11.000000            8.0          0.000000           0.000000   \n",
       "25%            12.000000            8.0          0.000000           6.000000   \n",
       "50%            14.000000            8.0          1.000000          10.000000   \n",
       "75%            18.000000            8.0          1.000000          15.000000   \n",
       "max            25.000000            8.0          3.000000          40.000000   \n",
       "\n",
       "       TrainingTimesLastYear  YearsAtCompany  YearsSinceLastPromotion  \\\n",
       "count            1470.000000     1470.000000              1470.000000   \n",
       "mean                2.799320        7.008163                 2.187755   \n",
       "std                 1.289271        6.126525                 3.222430   \n",
       "min                 0.000000        0.000000                 0.000000   \n",
       "25%                 2.000000        3.000000                 0.000000   \n",
       "50%                 3.000000        5.000000                 1.000000   \n",
       "75%                 3.000000        9.000000                 3.000000   \n",
       "max                 6.000000       40.000000                15.000000   \n",
       "\n",
       "       YearsWithCurrManager  \n",
       "count           1470.000000  \n",
       "mean               4.123129  \n",
       "std                3.568136  \n",
       "min                0.000000  \n",
       "25%                2.000000  \n",
       "50%                3.000000  \n",
       "75%                7.000000  \n",
       "max               17.000000  \n",
       "\n",
       "[8 rows x 22 columns]"
      ]
     },
     "execution_count": 127,
     "metadata": {},
     "output_type": "execute_result"
    }
   ],
   "source": [
    "Summarisation"
   ]
  },
  {
   "cell_type": "code",
   "execution_count": 128,
   "id": "2db79aea",
   "metadata": {},
   "outputs": [
    {
     "data": {
      "text/html": [
       "<div>\n",
       "<style scoped>\n",
       "    .dataframe tbody tr th:only-of-type {\n",
       "        vertical-align: middle;\n",
       "    }\n",
       "\n",
       "    .dataframe tbody tr th {\n",
       "        vertical-align: top;\n",
       "    }\n",
       "\n",
       "    .dataframe thead th {\n",
       "        text-align: right;\n",
       "    }\n",
       "</style>\n",
       "<table border=\"1\" class=\"dataframe\">\n",
       "  <thead>\n",
       "    <tr style=\"text-align: right;\">\n",
       "      <th>Attrition</th>\n",
       "      <th>0</th>\n",
       "      <th>1</th>\n",
       "    </tr>\n",
       "    <tr>\n",
       "      <th>Gender</th>\n",
       "      <th></th>\n",
       "      <th></th>\n",
       "    </tr>\n",
       "  </thead>\n",
       "  <tbody>\n",
       "    <tr>\n",
       "      <th>0</th>\n",
       "      <td>498</td>\n",
       "      <td>90</td>\n",
       "    </tr>\n",
       "    <tr>\n",
       "      <th>1</th>\n",
       "      <td>735</td>\n",
       "      <td>147</td>\n",
       "    </tr>\n",
       "  </tbody>\n",
       "</table>\n",
       "</div>"
      ],
      "text/plain": [
       "Attrition    0    1\n",
       "Gender             \n",
       "0          498   90\n",
       "1          735  147"
      ]
     },
     "execution_count": 128,
     "metadata": {},
     "output_type": "execute_result"
    }
   ],
   "source": [
    "pd.crosstab(dataset3.Gender,dataset3.Attrition)"
   ]
  },
  {
   "cell_type": "code",
   "execution_count": 129,
   "id": "4e04936d",
   "metadata": {},
   "outputs": [
    {
     "data": {
      "text/html": [
       "<div>\n",
       "<style scoped>\n",
       "    .dataframe tbody tr th:only-of-type {\n",
       "        vertical-align: middle;\n",
       "    }\n",
       "\n",
       "    .dataframe tbody tr th {\n",
       "        vertical-align: top;\n",
       "    }\n",
       "\n",
       "    .dataframe thead th {\n",
       "        text-align: right;\n",
       "    }\n",
       "</style>\n",
       "<table border=\"1\" class=\"dataframe\">\n",
       "  <thead>\n",
       "    <tr style=\"text-align: right;\">\n",
       "      <th>MaritalStatus</th>\n",
       "      <th>0</th>\n",
       "      <th>1</th>\n",
       "      <th>2</th>\n",
       "    </tr>\n",
       "    <tr>\n",
       "      <th>Attrition</th>\n",
       "      <th></th>\n",
       "      <th></th>\n",
       "      <th></th>\n",
       "    </tr>\n",
       "  </thead>\n",
       "  <tbody>\n",
       "    <tr>\n",
       "      <th>0</th>\n",
       "      <td>294</td>\n",
       "      <td>589</td>\n",
       "      <td>350</td>\n",
       "    </tr>\n",
       "    <tr>\n",
       "      <th>1</th>\n",
       "      <td>33</td>\n",
       "      <td>84</td>\n",
       "      <td>120</td>\n",
       "    </tr>\n",
       "  </tbody>\n",
       "</table>\n",
       "</div>"
      ],
      "text/plain": [
       "MaritalStatus    0    1    2\n",
       "Attrition                   \n",
       "0              294  589  350\n",
       "1               33   84  120"
      ]
     },
     "execution_count": 129,
     "metadata": {},
     "output_type": "execute_result"
    }
   ],
   "source": [
    "pd.crosstab(dataset3.Attrition,dataset3.MaritalStatus)"
   ]
  },
  {
   "cell_type": "code",
   "execution_count": 130,
   "id": "08ee3820",
   "metadata": {},
   "outputs": [
    {
     "data": {
      "text/html": [
       "<div>\n",
       "<style scoped>\n",
       "    .dataframe tbody tr th:only-of-type {\n",
       "        vertical-align: middle;\n",
       "    }\n",
       "\n",
       "    .dataframe tbody tr th {\n",
       "        vertical-align: top;\n",
       "    }\n",
       "\n",
       "    .dataframe thead th {\n",
       "        text-align: right;\n",
       "    }\n",
       "</style>\n",
       "<table border=\"1\" class=\"dataframe\">\n",
       "  <thead>\n",
       "    <tr style=\"text-align: right;\">\n",
       "      <th>Department</th>\n",
       "      <th>0</th>\n",
       "      <th>1</th>\n",
       "      <th>2</th>\n",
       "    </tr>\n",
       "    <tr>\n",
       "      <th>Attrition</th>\n",
       "      <th></th>\n",
       "      <th></th>\n",
       "      <th></th>\n",
       "    </tr>\n",
       "  </thead>\n",
       "  <tbody>\n",
       "    <tr>\n",
       "      <th>0</th>\n",
       "      <td>44</td>\n",
       "      <td>810</td>\n",
       "      <td>379</td>\n",
       "    </tr>\n",
       "    <tr>\n",
       "      <th>1</th>\n",
       "      <td>19</td>\n",
       "      <td>151</td>\n",
       "      <td>67</td>\n",
       "    </tr>\n",
       "  </tbody>\n",
       "</table>\n",
       "</div>"
      ],
      "text/plain": [
       "Department   0    1    2\n",
       "Attrition               \n",
       "0           44  810  379\n",
       "1           19  151   67"
      ]
     },
     "execution_count": 130,
     "metadata": {},
     "output_type": "execute_result"
    }
   ],
   "source": [
    "pd.crosstab(dataset3.Attrition,dataset3.Department)"
   ]
  },
  {
   "cell_type": "code",
   "execution_count": 131,
   "id": "090acc7c",
   "metadata": {},
   "outputs": [
    {
     "data": {
      "text/plain": [
       "(array([ 57., 105., 224., 265., 255., 217., 131.,  92.,  77.,  47.]),\n",
       " array([18. , 22.2, 26.4, 30.6, 34.8, 39. , 43.2, 47.4, 51.6, 55.8, 60. ]),\n",
       " <BarContainer object of 10 artists>)"
      ]
     },
     "execution_count": 131,
     "metadata": {},
     "output_type": "execute_result"
    },
    {
     "data": {
      "image/png": "[encoded data removed]",
      "text/plain": [
       "<Figure size 432x288 with 1 Axes>"
      ]
     },
     "metadata": {
      "needs_background": "light"
     },
     "output_type": "display_data"
    }
   ],
   "source": [
    "plt.hist(dataset3.Age)"
   ]
  },
  {
   "cell_type": "code",
   "execution_count": 132,
   "id": "91c04334",
   "metadata": {},
   "outputs": [
    {
     "data": {
      "text/plain": [
       "{'whiskers': [<matplotlib.lines.Line2D at 0x22bb48d89a0>,\n",
       "  <matplotlib.lines.Line2D at 0x22bb48d8d30>],\n",
       " 'caps': [<matplotlib.lines.Line2D at 0x22bb48e7100>,\n",
       "  <matplotlib.lines.Line2D at 0x22bb48e7490>],\n",
       " 'boxes': [<matplotlib.lines.Line2D at 0x22bb48d8610>],\n",
       " 'medians': [<matplotlib.lines.Line2D at 0x22bb48e7820>],\n",
       " 'fliers': [<matplotlib.lines.Line2D at 0x22bb48e7bb0>],\n",
       " 'means': []}"
      ]
     },
     "execution_count": 132,
     "metadata": {},
     "output_type": "execute_result"
    },
    {
     "data": {
      "image/png": "[encoded data removed]",
      "text/plain": [
       "<Figure size 432x288 with 1 Axes>"
      ]
     },
     "metadata": {
      "needs_background": "light"
     },
     "output_type": "display_data"
    }
   ],
   "source": [
    "plt.boxplot(dataset3.Age)"
   ]
  },
  {
   "cell_type": "code",
   "execution_count": 133,
   "id": "1609697a",
   "metadata": {},
   "outputs": [
    {
     "data": {
      "text/plain": [
       "(array([365., 349., 290., 109., 110.,  56.,  52.,  18.,  54.,  67.]),\n",
       " array([ 10090.,  29080.,  48070.,  67060.,  86050., 105040., 124030.,\n",
       "        143020., 162010., 181000., 199990.]),\n",
       " <BarContainer object of 10 artists>)"
      ]
     },
     "execution_count": 133,
     "metadata": {},
     "output_type": "execute_result"
    },
    {
     "data": {
      "image/png": "[encoded data removed]",
      "text/plain": [
       "<Figure size 432x288 with 1 Axes>"
      ]
     },
     "metadata": {
      "needs_background": "light"
     },
     "output_type": "display_data"
    }
   ],
   "source": [
    "plt.hist(dataset3.MonthlyIncome)"
   ]
  },
  {
   "cell_type": "code",
   "execution_count": 134,
   "id": "0b7f0cca",
   "metadata": {},
   "outputs": [
    {
     "data": {
      "text/plain": [
       "{'whiskers': [<matplotlib.lines.Line2D at 0x22bb49c0760>,\n",
       "  <matplotlib.lines.Line2D at 0x22bb49c0af0>],\n",
       " 'caps': [<matplotlib.lines.Line2D at 0x22bb49c0e80>,\n",
       "  <matplotlib.lines.Line2D at 0x22bb49cd250>],\n",
       " 'boxes': [<matplotlib.lines.Line2D at 0x22bb49c03d0>],\n",
       " 'medians': [<matplotlib.lines.Line2D at 0x22bb49cd5e0>],\n",
       " 'fliers': [<matplotlib.lines.Line2D at 0x22bb49cd970>],\n",
       " 'means': []}"
      ]
     },
     "execution_count": 134,
     "metadata": {},
     "output_type": "execute_result"
    },
    {
     "data": {
      "image/png": "[encoded data removed]",
      "text/plain": [
       "<Figure size 432x288 with 1 Axes>"
      ]
     },
     "metadata": {
      "needs_background": "light"
     },
     "output_type": "display_data"
    }
   ],
   "source": [
    "plt.boxplot(dataset3.MonthlyIncome)"
   ]
  },
  {
   "cell_type": "code",
   "execution_count": 135,
   "id": "527a2266",
   "metadata": {},
   "outputs": [
    {
     "data": {
      "text/plain": [
       "{'whiskers': [<matplotlib.lines.Line2D at 0x22bb4a29b80>,\n",
       "  <matplotlib.lines.Line2D at 0x22bb4a29f10>],\n",
       " 'caps': [<matplotlib.lines.Line2D at 0x22bb4a362e0>,\n",
       "  <matplotlib.lines.Line2D at 0x22bb4a36670>],\n",
       " 'boxes': [<matplotlib.lines.Line2D at 0x22bb4a297f0>],\n",
       " 'medians': [<matplotlib.lines.Line2D at 0x22bb4a36a00>],\n",
       " 'fliers': [<matplotlib.lines.Line2D at 0x22bb4a36d90>],\n",
       " 'means': []}"
      ]
     },
     "execution_count": 135,
     "metadata": {},
     "output_type": "execute_result"
    },
    {
     "data": {
      "image/png": "[encoded data removed]",
      "text/plain": [
       "<Figure size 432x288 with 1 Axes>"
      ]
     },
     "metadata": {
      "needs_background": "light"
     },
     "output_type": "display_data"
    }
   ],
   "source": [
    "plt.boxplot(dataset3.YearsAtCompany)"
   ]
  },
  {
   "cell_type": "code",
   "execution_count": 136,
   "id": "ed00c5b0",
   "metadata": {},
   "outputs": [],
   "source": [
    "Attrition_yes=dataset3[dataset3['Attrition']==1]"
   ]
  },
  {
   "cell_type": "code",
   "execution_count": 137,
   "id": "1f0dba61",
   "metadata": {},
   "outputs": [],
   "source": [
    "Attrition_no=dataset3[dataset3['Attrition']==0]"
   ]
  },
  {
   "cell_type": "code",
   "execution_count": 138,
   "id": "6e010e65",
   "metadata": {},
   "outputs": [],
   "source": [
    "stats,p=ttest_ind(Attrition_yes.Age,Attrition_no.Age)"
   ]
  },
  {
   "cell_type": "code",
   "execution_count": 139,
   "id": "4820c702",
   "metadata": {},
   "outputs": [
    {
     "name": "stdout",
     "output_type": "stream",
     "text": [
      "-6.1786638353072165 8.356308021103649e-10\n"
     ]
    }
   ],
   "source": [
    "print(stats,p)"
   ]
  },
  {
   "cell_type": "code",
   "execution_count": 140,
   "id": "8ac41d3b",
   "metadata": {},
   "outputs": [],
   "source": [
    "from scipy.stats import mannwhitneyu"
   ]
  },
  {
   "cell_type": "code",
   "execution_count": 141,
   "id": "625d146b",
   "metadata": {},
   "outputs": [],
   "source": [
    "stats,p=mannwhitneyu(Attrition_yes.MonthlyIncome,Attrition_no.MonthlyIncome)"
   ]
  },
  {
   "cell_type": "code",
   "execution_count": 142,
   "id": "fa43c70d",
   "metadata": {},
   "outputs": [
    {
     "name": "stdout",
     "output_type": "stream",
     "text": [
      "140544.5 0.35242665988655764\n"
     ]
    }
   ],
   "source": [
    "print(stats,p)"
   ]
  },
  {
   "cell_type": "code",
   "execution_count": 143,
   "id": "98a608a5",
   "metadata": {},
   "outputs": [
    {
     "data": {
      "text/plain": [
       "{'whiskers': [<matplotlib.lines.Line2D at 0x22bb4a9d400>,\n",
       "  <matplotlib.lines.Line2D at 0x22bb4a9d7c0>],\n",
       " 'caps': [<matplotlib.lines.Line2D at 0x22bb4a9db50>,\n",
       "  <matplotlib.lines.Line2D at 0x22bb4a9dee0>],\n",
       " 'boxes': [<matplotlib.lines.Line2D at 0x22bb4a9d070>],\n",
       " 'medians': [<matplotlib.lines.Line2D at 0x22bb4aaa2b0>],\n",
       " 'fliers': [<matplotlib.lines.Line2D at 0x22bb4aaa640>],\n",
       " 'means': []}"
      ]
     },
     "execution_count": 143,
     "metadata": {},
     "output_type": "execute_result"
    },
    {
     "data": {
      "image/png": "[encoded data removed]",
      "text/plain": [
       "<Figure size 432x288 with 1 Axes>"
      ]
     },
     "metadata": {
      "needs_background": "light"
     },
     "output_type": "display_data"
    }
   ],
   "source": [
    "plt.boxplot(dataset3.YearsAtCompany)"
   ]
  },
  {
   "cell_type": "code",
   "execution_count": 144,
   "id": "ae9baeb3",
   "metadata": {},
   "outputs": [],
   "source": [
    "from scipy.stats import chi2_contingency"
   ]
  },
  {
   "cell_type": "code",
   "execution_count": 145,
   "id": "a86696b0",
   "metadata": {},
   "outputs": [],
   "source": [
    "chitable=pd.crosstab(dataset3.Attrition,dataset3.Gender)"
   ]
  },
  {
   "cell_type": "code",
   "execution_count": 146,
   "id": "152107de",
   "metadata": {},
   "outputs": [
    {
     "data": {
      "text/html": [
       "<div>\n",
       "<style scoped>\n",
       "    .dataframe tbody tr th:only-of-type {\n",
       "        vertical-align: middle;\n",
       "    }\n",
       "\n",
       "    .dataframe tbody tr th {\n",
       "        vertical-align: top;\n",
       "    }\n",
       "\n",
       "    .dataframe thead th {\n",
       "        text-align: right;\n",
       "    }\n",
       "</style>\n",
       "<table border=\"1\" class=\"dataframe\">\n",
       "  <thead>\n",
       "    <tr style=\"text-align: right;\">\n",
       "      <th>Gender</th>\n",
       "      <th>0</th>\n",
       "      <th>1</th>\n",
       "    </tr>\n",
       "    <tr>\n",
       "      <th>Attrition</th>\n",
       "      <th></th>\n",
       "      <th></th>\n",
       "    </tr>\n",
       "  </thead>\n",
       "  <tbody>\n",
       "    <tr>\n",
       "      <th>0</th>\n",
       "      <td>498</td>\n",
       "      <td>735</td>\n",
       "    </tr>\n",
       "    <tr>\n",
       "      <th>1</th>\n",
       "      <td>90</td>\n",
       "      <td>147</td>\n",
       "    </tr>\n",
       "  </tbody>\n",
       "</table>\n",
       "</div>"
      ],
      "text/plain": [
       "Gender       0    1\n",
       "Attrition          \n",
       "0          498  735\n",
       "1           90  147"
      ]
     },
     "execution_count": 146,
     "metadata": {},
     "output_type": "execute_result"
    }
   ],
   "source": [
    "chitable"
   ]
  },
  {
   "cell_type": "code",
   "execution_count": 147,
   "id": "038179e9",
   "metadata": {},
   "outputs": [],
   "source": [
    "stats,p,dof,expected=chi2_contingency(chitable)"
   ]
  },
  {
   "cell_type": "code",
   "execution_count": 148,
   "id": "c7407dbd",
   "metadata": {},
   "outputs": [
    {
     "name": "stdout",
     "output_type": "stream",
     "text": [
      "0.3875534270295429 0.5335882358793274\n"
     ]
    }
   ],
   "source": [
    "print(stats,p)"
   ]
  },
  {
   "cell_type": "code",
   "execution_count": 149,
   "id": "8eee9fa2",
   "metadata": {},
   "outputs": [],
   "source": [
    "chitable=pd.crosstab(dataset3.Attrition,dataset.Education)"
   ]
  },
  {
   "cell_type": "code",
   "execution_count": 150,
   "id": "e679e94e",
   "metadata": {},
   "outputs": [],
   "source": [
    "stats,p,dof,expected=chi2_contingency(chitable)"
   ]
  },
  {
   "cell_type": "code",
   "execution_count": 151,
   "id": "0be1a343",
   "metadata": {},
   "outputs": [
    {
     "name": "stdout",
     "output_type": "stream",
     "text": [
      "1.880382559749732 0.7577477640783867\n"
     ]
    }
   ],
   "source": [
    "print(stats,p)"
   ]
  },
  {
   "cell_type": "code",
   "execution_count": 152,
   "id": "f1fa3093",
   "metadata": {},
   "outputs": [],
   "source": [
    "chitable=pd.crosstab(dataset.Attrition,dataset.MaritalStatus)"
   ]
  },
  {
   "cell_type": "code",
   "execution_count": 153,
   "id": "316bfd59",
   "metadata": {},
   "outputs": [],
   "source": [
    "stats,p,dof,expected=chi2_contingency(chitable)"
   ]
  },
  {
   "cell_type": "code",
   "execution_count": 154,
   "id": "e1ea9d78",
   "metadata": {},
   "outputs": [
    {
     "name": "stdout",
     "output_type": "stream",
     "text": [
      "138.49102962254608 8.45385940605786e-31\n"
     ]
    }
   ],
   "source": [
    "print(stats,p)"
   ]
  },
  {
   "cell_type": "code",
   "execution_count": 155,
   "id": "71c1cffb",
   "metadata": {},
   "outputs": [],
   "source": [
    "from scipy.stats import pearsonr"
   ]
  },
  {
   "cell_type": "code",
   "execution_count": 156,
   "id": "bd62d4df",
   "metadata": {},
   "outputs": [],
   "source": [
    "stats,p=pearsonr(dataset3.Attrition,dataset3.MonthlyIncome)"
   ]
  },
  {
   "cell_type": "code",
   "execution_count": 157,
   "id": "2b1da825",
   "metadata": {},
   "outputs": [
    {
     "name": "stdout",
     "output_type": "stream",
     "text": [
      "-0.03117628169811501 0.23224716398135908\n"
     ]
    }
   ],
   "source": [
    "print(stats,p)"
   ]
  },
  {
   "cell_type": "code",
   "execution_count": 158,
   "id": "7440995f",
   "metadata": {},
   "outputs": [],
   "source": [
    "from scipy.stats import pearsonr"
   ]
  },
  {
   "cell_type": "code",
   "execution_count": 159,
   "id": "b6228ae2",
   "metadata": {},
   "outputs": [],
   "source": [
    "stats,p=pearsonr(dataset3.Attrition,dataset3.Gender)"
   ]
  },
  {
   "cell_type": "code",
   "execution_count": 160,
   "id": "16ec3735",
   "metadata": {},
   "outputs": [
    {
     "name": "stdout",
     "output_type": "stream",
     "text": [
      "0.018125078877010224 0.48743647011569946\n"
     ]
    }
   ],
   "source": [
    "print(stats,p)"
   ]
  },
  {
   "cell_type": "code",
   "execution_count": 161,
   "id": "7a0ae0b4",
   "metadata": {},
   "outputs": [
    {
     "data": {
      "text/html": [
       "<div>\n",
       "<style scoped>\n",
       "    .dataframe tbody tr th:only-of-type {\n",
       "        vertical-align: middle;\n",
       "    }\n",
       "\n",
       "    .dataframe tbody tr th {\n",
       "        vertical-align: top;\n",
       "    }\n",
       "\n",
       "    .dataframe thead th {\n",
       "        text-align: right;\n",
       "    }\n",
       "</style>\n",
       "<table border=\"1\" class=\"dataframe\">\n",
       "  <thead>\n",
       "    <tr style=\"text-align: right;\">\n",
       "      <th></th>\n",
       "      <th>Age</th>\n",
       "      <th>Attrition</th>\n",
       "      <th>BusinessTravel</th>\n",
       "      <th>Department</th>\n",
       "      <th>DistanceFromHome</th>\n",
       "      <th>Education</th>\n",
       "      <th>EducationField</th>\n",
       "      <th>EmployeeCount</th>\n",
       "      <th>Gender</th>\n",
       "      <th>JobLevel</th>\n",
       "      <th>...</th>\n",
       "      <th>MonthlyIncome</th>\n",
       "      <th>NumCompaniesWorked</th>\n",
       "      <th>PercentSalaryHike</th>\n",
       "      <th>StandardHours</th>\n",
       "      <th>StockOptionLevel</th>\n",
       "      <th>TotalWorkingYears</th>\n",
       "      <th>TrainingTimesLastYear</th>\n",
       "      <th>YearsAtCompany</th>\n",
       "      <th>YearsSinceLastPromotion</th>\n",
       "      <th>YearsWithCurrManager</th>\n",
       "    </tr>\n",
       "  </thead>\n",
       "  <tbody>\n",
       "    <tr>\n",
       "      <th>Age</th>\n",
       "      <td>1.000000</td>\n",
       "      <td>-0.159205</td>\n",
       "      <td>0.024751</td>\n",
       "      <td>-0.010846</td>\n",
       "      <td>0.006963</td>\n",
       "      <td>-0.035706</td>\n",
       "      <td>0.043194</td>\n",
       "      <td>NaN</td>\n",
       "      <td>-0.039352</td>\n",
       "      <td>-0.002884</td>\n",
       "      <td>...</td>\n",
       "      <td>-0.044314</td>\n",
       "      <td>0.299635</td>\n",
       "      <td>-0.033137</td>\n",
       "      <td>NaN</td>\n",
       "      <td>-0.031753</td>\n",
       "      <td>0.680381</td>\n",
       "      <td>-0.027308</td>\n",
       "      <td>0.311309</td>\n",
       "      <td>0.216513</td>\n",
       "      <td>0.202089</td>\n",
       "    </tr>\n",
       "    <tr>\n",
       "      <th>Attrition</th>\n",
       "      <td>-0.159205</td>\n",
       "      <td>1.000000</td>\n",
       "      <td>0.000074</td>\n",
       "      <td>-0.048206</td>\n",
       "      <td>-0.009730</td>\n",
       "      <td>-0.015111</td>\n",
       "      <td>-0.057940</td>\n",
       "      <td>NaN</td>\n",
       "      <td>0.018125</td>\n",
       "      <td>-0.010290</td>\n",
       "      <td>...</td>\n",
       "      <td>-0.031176</td>\n",
       "      <td>0.043494</td>\n",
       "      <td>0.032533</td>\n",
       "      <td>NaN</td>\n",
       "      <td>-0.006839</td>\n",
       "      <td>-0.171063</td>\n",
       "      <td>-0.049431</td>\n",
       "      <td>-0.134392</td>\n",
       "      <td>-0.033019</td>\n",
       "      <td>-0.156199</td>\n",
       "    </tr>\n",
       "    <tr>\n",
       "      <th>BusinessTravel</th>\n",
       "      <td>0.024751</td>\n",
       "      <td>0.000074</td>\n",
       "      <td>1.000000</td>\n",
       "      <td>-0.010982</td>\n",
       "      <td>0.024616</td>\n",
       "      <td>0.002755</td>\n",
       "      <td>-0.015462</td>\n",
       "      <td>NaN</td>\n",
       "      <td>-0.039243</td>\n",
       "      <td>0.046111</td>\n",
       "      <td>...</td>\n",
       "      <td>-0.037597</td>\n",
       "      <td>0.020875</td>\n",
       "      <td>-0.031054</td>\n",
       "      <td>NaN</td>\n",
       "      <td>0.003683</td>\n",
       "      <td>0.034226</td>\n",
       "      <td>-0.041888</td>\n",
       "      <td>-0.014575</td>\n",
       "      <td>-0.032591</td>\n",
       "      <td>-0.022636</td>\n",
       "    </tr>\n",
       "    <tr>\n",
       "      <th>Department</th>\n",
       "      <td>-0.010846</td>\n",
       "      <td>-0.048206</td>\n",
       "      <td>-0.010982</td>\n",
       "      <td>1.000000</td>\n",
       "      <td>0.012134</td>\n",
       "      <td>-0.004597</td>\n",
       "      <td>0.013720</td>\n",
       "      <td>NaN</td>\n",
       "      <td>0.003158</td>\n",
       "      <td>0.002923</td>\n",
       "      <td>...</td>\n",
       "      <td>-0.032237</td>\n",
       "      <td>-0.003870</td>\n",
       "      <td>-0.007840</td>\n",
       "      <td>NaN</td>\n",
       "      <td>0.010512</td>\n",
       "      <td>-0.019408</td>\n",
       "      <td>0.012866</td>\n",
       "      <td>0.010078</td>\n",
       "      <td>0.014845</td>\n",
       "      <td>0.018016</td>\n",
       "    </tr>\n",
       "    <tr>\n",
       "      <th>DistanceFromHome</th>\n",
       "      <td>0.006963</td>\n",
       "      <td>-0.009730</td>\n",
       "      <td>0.024616</td>\n",
       "      <td>0.012134</td>\n",
       "      <td>1.000000</td>\n",
       "      <td>-0.008638</td>\n",
       "      <td>-0.024665</td>\n",
       "      <td>NaN</td>\n",
       "      <td>-0.044173</td>\n",
       "      <td>-0.037329</td>\n",
       "      <td>...</td>\n",
       "      <td>-0.021607</td>\n",
       "      <td>-0.013822</td>\n",
       "      <td>0.038125</td>\n",
       "      <td>NaN</td>\n",
       "      <td>0.011169</td>\n",
       "      <td>0.010111</td>\n",
       "      <td>-0.009001</td>\n",
       "      <td>0.031684</td>\n",
       "      <td>0.002290</td>\n",
       "      <td>0.021584</td>\n",
       "    </tr>\n",
       "    <tr>\n",
       "      <th>Education</th>\n",
       "      <td>-0.035706</td>\n",
       "      <td>-0.015111</td>\n",
       "      <td>0.002755</td>\n",
       "      <td>-0.004597</td>\n",
       "      <td>-0.008638</td>\n",
       "      <td>1.000000</td>\n",
       "      <td>0.012329</td>\n",
       "      <td>NaN</td>\n",
       "      <td>-0.016547</td>\n",
       "      <td>0.045746</td>\n",
       "      <td>...</td>\n",
       "      <td>0.006410</td>\n",
       "      <td>-0.016569</td>\n",
       "      <td>-0.040531</td>\n",
       "      <td>NaN</td>\n",
       "      <td>0.001261</td>\n",
       "      <td>-0.010440</td>\n",
       "      <td>0.010472</td>\n",
       "      <td>0.006080</td>\n",
       "      <td>0.022490</td>\n",
       "      <td>0.005358</td>\n",
       "    </tr>\n",
       "    <tr>\n",
       "      <th>EducationField</th>\n",
       "      <td>0.043194</td>\n",
       "      <td>-0.057940</td>\n",
       "      <td>-0.015462</td>\n",
       "      <td>0.013720</td>\n",
       "      <td>-0.024665</td>\n",
       "      <td>0.012329</td>\n",
       "      <td>1.000000</td>\n",
       "      <td>NaN</td>\n",
       "      <td>-0.005634</td>\n",
       "      <td>-0.019528</td>\n",
       "      <td>...</td>\n",
       "      <td>0.008858</td>\n",
       "      <td>0.007916</td>\n",
       "      <td>-0.011214</td>\n",
       "      <td>NaN</td>\n",
       "      <td>0.021620</td>\n",
       "      <td>0.021569</td>\n",
       "      <td>-0.021793</td>\n",
       "      <td>0.023120</td>\n",
       "      <td>0.048181</td>\n",
       "      <td>0.021664</td>\n",
       "    </tr>\n",
       "    <tr>\n",
       "      <th>EmployeeCount</th>\n",
       "      <td>NaN</td>\n",
       "      <td>NaN</td>\n",
       "      <td>NaN</td>\n",
       "      <td>NaN</td>\n",
       "      <td>NaN</td>\n",
       "      <td>NaN</td>\n",
       "      <td>NaN</td>\n",
       "      <td>NaN</td>\n",
       "      <td>NaN</td>\n",
       "      <td>NaN</td>\n",
       "      <td>...</td>\n",
       "      <td>NaN</td>\n",
       "      <td>NaN</td>\n",
       "      <td>NaN</td>\n",
       "      <td>NaN</td>\n",
       "      <td>NaN</td>\n",
       "      <td>NaN</td>\n",
       "      <td>NaN</td>\n",
       "      <td>NaN</td>\n",
       "      <td>NaN</td>\n",
       "      <td>NaN</td>\n",
       "    </tr>\n",
       "    <tr>\n",
       "      <th>Gender</th>\n",
       "      <td>-0.039352</td>\n",
       "      <td>0.018125</td>\n",
       "      <td>-0.039243</td>\n",
       "      <td>0.003158</td>\n",
       "      <td>-0.044173</td>\n",
       "      <td>-0.016547</td>\n",
       "      <td>-0.005634</td>\n",
       "      <td>NaN</td>\n",
       "      <td>1.000000</td>\n",
       "      <td>-0.026854</td>\n",
       "      <td>...</td>\n",
       "      <td>0.007530</td>\n",
       "      <td>-0.066395</td>\n",
       "      <td>0.011841</td>\n",
       "      <td>NaN</td>\n",
       "      <td>0.019237</td>\n",
       "      <td>-0.026707</td>\n",
       "      <td>-0.030167</td>\n",
       "      <td>-0.017277</td>\n",
       "      <td>-0.021812</td>\n",
       "      <td>0.004438</td>\n",
       "    </tr>\n",
       "    <tr>\n",
       "      <th>JobLevel</th>\n",
       "      <td>-0.002884</td>\n",
       "      <td>-0.010290</td>\n",
       "      <td>0.046111</td>\n",
       "      <td>0.002923</td>\n",
       "      <td>-0.037329</td>\n",
       "      <td>0.045746</td>\n",
       "      <td>-0.019528</td>\n",
       "      <td>NaN</td>\n",
       "      <td>-0.026854</td>\n",
       "      <td>1.000000</td>\n",
       "      <td>...</td>\n",
       "      <td>0.047316</td>\n",
       "      <td>-0.008656</td>\n",
       "      <td>0.010973</td>\n",
       "      <td>NaN</td>\n",
       "      <td>0.000993</td>\n",
       "      <td>-0.037012</td>\n",
       "      <td>-0.032500</td>\n",
       "      <td>-0.064219</td>\n",
       "      <td>-0.060811</td>\n",
       "      <td>-0.055251</td>\n",
       "    </tr>\n",
       "    <tr>\n",
       "      <th>JobRole</th>\n",
       "      <td>0.011422</td>\n",
       "      <td>0.025809</td>\n",
       "      <td>-0.027194</td>\n",
       "      <td>-0.025466</td>\n",
       "      <td>-0.010293</td>\n",
       "      <td>0.030155</td>\n",
       "      <td>0.013106</td>\n",
       "      <td>NaN</td>\n",
       "      <td>0.003724</td>\n",
       "      <td>-0.014763</td>\n",
       "      <td>...</td>\n",
       "      <td>0.017072</td>\n",
       "      <td>-0.022273</td>\n",
       "      <td>-0.013465</td>\n",
       "      <td>NaN</td>\n",
       "      <td>0.023991</td>\n",
       "      <td>-0.012845</td>\n",
       "      <td>0.051744</td>\n",
       "      <td>-0.012886</td>\n",
       "      <td>-0.014635</td>\n",
       "      <td>0.010695</td>\n",
       "    </tr>\n",
       "    <tr>\n",
       "      <th>MaritalStatus</th>\n",
       "      <td>-0.095029</td>\n",
       "      <td>0.162070</td>\n",
       "      <td>0.024001</td>\n",
       "      <td>-0.044619</td>\n",
       "      <td>-0.027893</td>\n",
       "      <td>0.024991</td>\n",
       "      <td>-0.051409</td>\n",
       "      <td>NaN</td>\n",
       "      <td>-0.009132</td>\n",
       "      <td>-0.022021</td>\n",
       "      <td>...</td>\n",
       "      <td>-0.052383</td>\n",
       "      <td>-0.035505</td>\n",
       "      <td>0.006378</td>\n",
       "      <td>NaN</td>\n",
       "      <td>0.014745</td>\n",
       "      <td>-0.077886</td>\n",
       "      <td>0.012798</td>\n",
       "      <td>-0.059986</td>\n",
       "      <td>-0.030915</td>\n",
       "      <td>-0.038570</td>\n",
       "    </tr>\n",
       "    <tr>\n",
       "      <th>MonthlyIncome</th>\n",
       "      <td>-0.044314</td>\n",
       "      <td>-0.031176</td>\n",
       "      <td>-0.037597</td>\n",
       "      <td>-0.032237</td>\n",
       "      <td>-0.021607</td>\n",
       "      <td>0.006410</td>\n",
       "      <td>0.008858</td>\n",
       "      <td>NaN</td>\n",
       "      <td>0.007530</td>\n",
       "      <td>0.047316</td>\n",
       "      <td>...</td>\n",
       "      <td>1.000000</td>\n",
       "      <td>-0.020315</td>\n",
       "      <td>0.004325</td>\n",
       "      <td>NaN</td>\n",
       "      <td>0.026930</td>\n",
       "      <td>-0.033402</td>\n",
       "      <td>0.050112</td>\n",
       "      <td>0.000995</td>\n",
       "      <td>0.065219</td>\n",
       "      <td>0.024304</td>\n",
       "    </tr>\n",
       "    <tr>\n",
       "      <th>NumCompaniesWorked</th>\n",
       "      <td>0.299635</td>\n",
       "      <td>0.043494</td>\n",
       "      <td>0.020875</td>\n",
       "      <td>-0.003870</td>\n",
       "      <td>-0.013822</td>\n",
       "      <td>-0.016569</td>\n",
       "      <td>0.007916</td>\n",
       "      <td>NaN</td>\n",
       "      <td>-0.066395</td>\n",
       "      <td>-0.008656</td>\n",
       "      <td>...</td>\n",
       "      <td>-0.020315</td>\n",
       "      <td>1.000000</td>\n",
       "      <td>0.031235</td>\n",
       "      <td>NaN</td>\n",
       "      <td>0.017922</td>\n",
       "      <td>0.237639</td>\n",
       "      <td>-0.032235</td>\n",
       "      <td>-0.118421</td>\n",
       "      <td>-0.036814</td>\n",
       "      <td>-0.110319</td>\n",
       "    </tr>\n",
       "    <tr>\n",
       "      <th>PercentSalaryHike</th>\n",
       "      <td>-0.033137</td>\n",
       "      <td>0.032533</td>\n",
       "      <td>-0.031054</td>\n",
       "      <td>-0.007840</td>\n",
       "      <td>0.038125</td>\n",
       "      <td>-0.040531</td>\n",
       "      <td>-0.011214</td>\n",
       "      <td>NaN</td>\n",
       "      <td>0.011841</td>\n",
       "      <td>0.010973</td>\n",
       "      <td>...</td>\n",
       "      <td>0.004325</td>\n",
       "      <td>0.031235</td>\n",
       "      <td>1.000000</td>\n",
       "      <td>NaN</td>\n",
       "      <td>0.012548</td>\n",
       "      <td>-0.019150</td>\n",
       "      <td>-0.037392</td>\n",
       "      <td>-0.029707</td>\n",
       "      <td>-0.029542</td>\n",
       "      <td>-0.040864</td>\n",
       "    </tr>\n",
       "    <tr>\n",
       "      <th>StandardHours</th>\n",
       "      <td>NaN</td>\n",
       "      <td>NaN</td>\n",
       "      <td>NaN</td>\n",
       "      <td>NaN</td>\n",
       "      <td>NaN</td>\n",
       "      <td>NaN</td>\n",
       "      <td>NaN</td>\n",
       "      <td>NaN</td>\n",
       "      <td>NaN</td>\n",
       "      <td>NaN</td>\n",
       "      <td>...</td>\n",
       "      <td>NaN</td>\n",
       "      <td>NaN</td>\n",
       "      <td>NaN</td>\n",
       "      <td>NaN</td>\n",
       "      <td>NaN</td>\n",
       "      <td>NaN</td>\n",
       "      <td>NaN</td>\n",
       "      <td>NaN</td>\n",
       "      <td>NaN</td>\n",
       "      <td>NaN</td>\n",
       "    </tr>\n",
       "    <tr>\n",
       "      <th>StockOptionLevel</th>\n",
       "      <td>-0.031753</td>\n",
       "      <td>-0.006839</td>\n",
       "      <td>0.003683</td>\n",
       "      <td>0.010512</td>\n",
       "      <td>0.011169</td>\n",
       "      <td>0.001261</td>\n",
       "      <td>0.021620</td>\n",
       "      <td>NaN</td>\n",
       "      <td>0.019237</td>\n",
       "      <td>0.000993</td>\n",
       "      <td>...</td>\n",
       "      <td>0.026930</td>\n",
       "      <td>0.017922</td>\n",
       "      <td>0.012548</td>\n",
       "      <td>NaN</td>\n",
       "      <td>1.000000</td>\n",
       "      <td>0.001922</td>\n",
       "      <td>-0.069902</td>\n",
       "      <td>0.007886</td>\n",
       "      <td>0.019063</td>\n",
       "      <td>0.017757</td>\n",
       "    </tr>\n",
       "    <tr>\n",
       "      <th>TotalWorkingYears</th>\n",
       "      <td>0.680381</td>\n",
       "      <td>-0.171063</td>\n",
       "      <td>0.034226</td>\n",
       "      <td>-0.019408</td>\n",
       "      <td>0.010111</td>\n",
       "      <td>-0.010440</td>\n",
       "      <td>0.021569</td>\n",
       "      <td>NaN</td>\n",
       "      <td>-0.026707</td>\n",
       "      <td>-0.037012</td>\n",
       "      <td>...</td>\n",
       "      <td>-0.033402</td>\n",
       "      <td>0.237639</td>\n",
       "      <td>-0.019150</td>\n",
       "      <td>NaN</td>\n",
       "      <td>0.001922</td>\n",
       "      <td>1.000000</td>\n",
       "      <td>-0.039394</td>\n",
       "      <td>0.628133</td>\n",
       "      <td>0.404858</td>\n",
       "      <td>0.459188</td>\n",
       "    </tr>\n",
       "    <tr>\n",
       "      <th>TrainingTimesLastYear</th>\n",
       "      <td>-0.027308</td>\n",
       "      <td>-0.049431</td>\n",
       "      <td>-0.041888</td>\n",
       "      <td>0.012866</td>\n",
       "      <td>-0.009001</td>\n",
       "      <td>0.010472</td>\n",
       "      <td>-0.021793</td>\n",
       "      <td>NaN</td>\n",
       "      <td>-0.030167</td>\n",
       "      <td>-0.032500</td>\n",
       "      <td>...</td>\n",
       "      <td>0.050112</td>\n",
       "      <td>-0.032235</td>\n",
       "      <td>-0.037392</td>\n",
       "      <td>NaN</td>\n",
       "      <td>-0.069902</td>\n",
       "      <td>-0.039394</td>\n",
       "      <td>1.000000</td>\n",
       "      <td>-0.007894</td>\n",
       "      <td>0.016121</td>\n",
       "      <td>-0.013270</td>\n",
       "    </tr>\n",
       "    <tr>\n",
       "      <th>YearsAtCompany</th>\n",
       "      <td>0.311309</td>\n",
       "      <td>-0.134392</td>\n",
       "      <td>-0.014575</td>\n",
       "      <td>0.010078</td>\n",
       "      <td>0.031684</td>\n",
       "      <td>0.006080</td>\n",
       "      <td>0.023120</td>\n",
       "      <td>NaN</td>\n",
       "      <td>-0.017277</td>\n",
       "      <td>-0.064219</td>\n",
       "      <td>...</td>\n",
       "      <td>0.000995</td>\n",
       "      <td>-0.118421</td>\n",
       "      <td>-0.029707</td>\n",
       "      <td>NaN</td>\n",
       "      <td>0.007886</td>\n",
       "      <td>0.628133</td>\n",
       "      <td>-0.007894</td>\n",
       "      <td>1.000000</td>\n",
       "      <td>0.618409</td>\n",
       "      <td>0.769212</td>\n",
       "    </tr>\n",
       "    <tr>\n",
       "      <th>YearsSinceLastPromotion</th>\n",
       "      <td>0.216513</td>\n",
       "      <td>-0.033019</td>\n",
       "      <td>-0.032591</td>\n",
       "      <td>0.014845</td>\n",
       "      <td>0.002290</td>\n",
       "      <td>0.022490</td>\n",
       "      <td>0.048181</td>\n",
       "      <td>NaN</td>\n",
       "      <td>-0.021812</td>\n",
       "      <td>-0.060811</td>\n",
       "      <td>...</td>\n",
       "      <td>0.065219</td>\n",
       "      <td>-0.036814</td>\n",
       "      <td>-0.029542</td>\n",
       "      <td>NaN</td>\n",
       "      <td>0.019063</td>\n",
       "      <td>0.404858</td>\n",
       "      <td>0.016121</td>\n",
       "      <td>0.618409</td>\n",
       "      <td>1.000000</td>\n",
       "      <td>0.510224</td>\n",
       "    </tr>\n",
       "    <tr>\n",
       "      <th>YearsWithCurrManager</th>\n",
       "      <td>0.202089</td>\n",
       "      <td>-0.156199</td>\n",
       "      <td>-0.022636</td>\n",
       "      <td>0.018016</td>\n",
       "      <td>0.021584</td>\n",
       "      <td>0.005358</td>\n",
       "      <td>0.021664</td>\n",
       "      <td>NaN</td>\n",
       "      <td>0.004438</td>\n",
       "      <td>-0.055251</td>\n",
       "      <td>...</td>\n",
       "      <td>0.024304</td>\n",
       "      <td>-0.110319</td>\n",
       "      <td>-0.040864</td>\n",
       "      <td>NaN</td>\n",
       "      <td>0.017757</td>\n",
       "      <td>0.459188</td>\n",
       "      <td>-0.013270</td>\n",
       "      <td>0.769212</td>\n",
       "      <td>0.510224</td>\n",
       "      <td>1.000000</td>\n",
       "    </tr>\n",
       "  </tbody>\n",
       "</table>\n",
       "<p>22 rows × 22 columns</p>\n",
       "</div>"
      ],
      "text/plain": [
       "                              Age  Attrition  BusinessTravel  Department  \\\n",
       "Age                      1.000000  -0.159205        0.024751   -0.010846   \n",
       "Attrition               -0.159205   1.000000        0.000074   -0.048206   \n",
       "BusinessTravel           0.024751   0.000074        1.000000   -0.010982   \n",
       "Department              -0.010846  -0.048206       -0.010982    1.000000   \n",
       "DistanceFromHome         0.006963  -0.009730        0.024616    0.012134   \n",
       "Education               -0.035706  -0.015111        0.002755   -0.004597   \n",
       "EducationField           0.043194  -0.057940       -0.015462    0.013720   \n",
       "EmployeeCount                 NaN        NaN             NaN         NaN   \n",
       "Gender                  -0.039352   0.018125       -0.039243    0.003158   \n",
       "JobLevel                -0.002884  -0.010290        0.046111    0.002923   \n",
       "JobRole                  0.011422   0.025809       -0.027194   -0.025466   \n",
       "MaritalStatus           -0.095029   0.162070        0.024001   -0.044619   \n",
       "MonthlyIncome           -0.044314  -0.031176       -0.037597   -0.032237   \n",
       "NumCompaniesWorked       0.299635   0.043494        0.020875   -0.003870   \n",
       "PercentSalaryHike       -0.033137   0.032533       -0.031054   -0.007840   \n",
       "StandardHours                 NaN        NaN             NaN         NaN   \n",
       "StockOptionLevel        -0.031753  -0.006839        0.003683    0.010512   \n",
       "TotalWorkingYears        0.680381  -0.171063        0.034226   -0.019408   \n",
       "TrainingTimesLastYear   -0.027308  -0.049431       -0.041888    0.012866   \n",
       "YearsAtCompany           0.311309  -0.134392       -0.014575    0.010078   \n",
       "YearsSinceLastPromotion  0.216513  -0.033019       -0.032591    0.014845   \n",
       "YearsWithCurrManager     0.202089  -0.156199       -0.022636    0.018016   \n",
       "\n",
       "                         DistanceFromHome  Education  EducationField  \\\n",
       "Age                              0.006963  -0.035706        0.043194   \n",
       "Attrition                       -0.009730  -0.015111       -0.057940   \n",
       "BusinessTravel                   0.024616   0.002755       -0.015462   \n",
       "Department                       0.012134  -0.004597        0.013720   \n",
       "DistanceFromHome                 1.000000  -0.008638       -0.024665   \n",
       "Education                       -0.008638   1.000000        0.012329   \n",
       "EducationField                  -0.024665   0.012329        1.000000   \n",
       "EmployeeCount                         NaN        NaN             NaN   \n",
       "Gender                          -0.044173  -0.016547       -0.005634   \n",
       "JobLevel                        -0.037329   0.045746       -0.019528   \n",
       "JobRole                         -0.010293   0.030155        0.013106   \n",
       "MaritalStatus                   -0.027893   0.024991       -0.051409   \n",
       "MonthlyIncome                   -0.021607   0.006410        0.008858   \n",
       "NumCompaniesWorked              -0.013822  -0.016569        0.007916   \n",
       "PercentSalaryHike                0.038125  -0.040531       -0.011214   \n",
       "StandardHours                         NaN        NaN             NaN   \n",
       "StockOptionLevel                 0.011169   0.001261        0.021620   \n",
       "TotalWorkingYears                0.010111  -0.010440        0.021569   \n",
       "TrainingTimesLastYear           -0.009001   0.010472       -0.021793   \n",
       "YearsAtCompany                   0.031684   0.006080        0.023120   \n",
       "YearsSinceLastPromotion          0.002290   0.022490        0.048181   \n",
       "YearsWithCurrManager             0.021584   0.005358        0.021664   \n",
       "\n",
       "                         EmployeeCount    Gender  JobLevel  ...  \\\n",
       "Age                                NaN -0.039352 -0.002884  ...   \n",
       "Attrition                          NaN  0.018125 -0.010290  ...   \n",
       "BusinessTravel                     NaN -0.039243  0.046111  ...   \n",
       "Department                         NaN  0.003158  0.002923  ...   \n",
       "DistanceFromHome                   NaN -0.044173 -0.037329  ...   \n",
       "Education                          NaN -0.016547  0.045746  ...   \n",
       "EducationField                     NaN -0.005634 -0.019528  ...   \n",
       "EmployeeCount                      NaN       NaN       NaN  ...   \n",
       "Gender                             NaN  1.000000 -0.026854  ...   \n",
       "JobLevel                           NaN -0.026854  1.000000  ...   \n",
       "JobRole                            NaN  0.003724 -0.014763  ...   \n",
       "MaritalStatus                      NaN -0.009132 -0.022021  ...   \n",
       "MonthlyIncome                      NaN  0.007530  0.047316  ...   \n",
       "NumCompaniesWorked                 NaN -0.066395 -0.008656  ...   \n",
       "PercentSalaryHike                  NaN  0.011841  0.010973  ...   \n",
       "StandardHours                      NaN       NaN       NaN  ...   \n",
       "StockOptionLevel                   NaN  0.019237  0.000993  ...   \n",
       "TotalWorkingYears                  NaN -0.026707 -0.037012  ...   \n",
       "TrainingTimesLastYear              NaN -0.030167 -0.032500  ...   \n",
       "YearsAtCompany                     NaN -0.017277 -0.064219  ...   \n",
       "YearsSinceLastPromotion            NaN -0.021812 -0.060811  ...   \n",
       "YearsWithCurrManager               NaN  0.004438 -0.055251  ...   \n",
       "\n",
       "                         MonthlyIncome  NumCompaniesWorked  PercentSalaryHike  \\\n",
       "Age                          -0.044314            0.299635          -0.033137   \n",
       "Attrition                    -0.031176            0.043494           0.032533   \n",
       "BusinessTravel               -0.037597            0.020875          -0.031054   \n",
       "Department                   -0.032237           -0.003870          -0.007840   \n",
       "DistanceFromHome             -0.021607           -0.013822           0.038125   \n",
       "Education                     0.006410           -0.016569          -0.040531   \n",
       "EducationField                0.008858            0.007916          -0.011214   \n",
       "EmployeeCount                      NaN                 NaN                NaN   \n",
       "Gender                        0.007530           -0.066395           0.011841   \n",
       "JobLevel                      0.047316           -0.008656           0.010973   \n",
       "JobRole                       0.017072           -0.022273          -0.013465   \n",
       "MaritalStatus                -0.052383           -0.035505           0.006378   \n",
       "MonthlyIncome                 1.000000           -0.020315           0.004325   \n",
       "NumCompaniesWorked           -0.020315            1.000000           0.031235   \n",
       "PercentSalaryHike             0.004325            0.031235           1.000000   \n",
       "StandardHours                      NaN                 NaN                NaN   \n",
       "StockOptionLevel              0.026930            0.017922           0.012548   \n",
       "TotalWorkingYears            -0.033402            0.237639          -0.019150   \n",
       "TrainingTimesLastYear         0.050112           -0.032235          -0.037392   \n",
       "YearsAtCompany                0.000995           -0.118421          -0.029707   \n",
       "YearsSinceLastPromotion       0.065219           -0.036814          -0.029542   \n",
       "YearsWithCurrManager          0.024304           -0.110319          -0.040864   \n",
       "\n",
       "                         StandardHours  StockOptionLevel  TotalWorkingYears  \\\n",
       "Age                                NaN         -0.031753           0.680381   \n",
       "Attrition                          NaN         -0.006839          -0.171063   \n",
       "BusinessTravel                     NaN          0.003683           0.034226   \n",
       "Department                         NaN          0.010512          -0.019408   \n",
       "DistanceFromHome                   NaN          0.011169           0.010111   \n",
       "Education                          NaN          0.001261          -0.010440   \n",
       "EducationField                     NaN          0.021620           0.021569   \n",
       "EmployeeCount                      NaN               NaN                NaN   \n",
       "Gender                             NaN          0.019237          -0.026707   \n",
       "JobLevel                           NaN          0.000993          -0.037012   \n",
       "JobRole                            NaN          0.023991          -0.012845   \n",
       "MaritalStatus                      NaN          0.014745          -0.077886   \n",
       "MonthlyIncome                      NaN          0.026930          -0.033402   \n",
       "NumCompaniesWorked                 NaN          0.017922           0.237639   \n",
       "PercentSalaryHike                  NaN          0.012548          -0.019150   \n",
       "StandardHours                      NaN               NaN                NaN   \n",
       "StockOptionLevel                   NaN          1.000000           0.001922   \n",
       "TotalWorkingYears                  NaN          0.001922           1.000000   \n",
       "TrainingTimesLastYear              NaN         -0.069902          -0.039394   \n",
       "YearsAtCompany                     NaN          0.007886           0.628133   \n",
       "YearsSinceLastPromotion            NaN          0.019063           0.404858   \n",
       "YearsWithCurrManager               NaN          0.017757           0.459188   \n",
       "\n",
       "                         TrainingTimesLastYear  YearsAtCompany  \\\n",
       "Age                                  -0.027308        0.311309   \n",
       "Attrition                            -0.049431       -0.134392   \n",
       "BusinessTravel                       -0.041888       -0.014575   \n",
       "Department                            0.012866        0.010078   \n",
       "DistanceFromHome                     -0.009001        0.031684   \n",
       "Education                             0.010472        0.006080   \n",
       "EducationField                       -0.021793        0.023120   \n",
       "EmployeeCount                              NaN             NaN   \n",
       "Gender                               -0.030167       -0.017277   \n",
       "JobLevel                             -0.032500       -0.064219   \n",
       "JobRole                               0.051744       -0.012886   \n",
       "MaritalStatus                         0.012798       -0.059986   \n",
       "MonthlyIncome                         0.050112        0.000995   \n",
       "NumCompaniesWorked                   -0.032235       -0.118421   \n",
       "PercentSalaryHike                    -0.037392       -0.029707   \n",
       "StandardHours                              NaN             NaN   \n",
       "StockOptionLevel                     -0.069902        0.007886   \n",
       "TotalWorkingYears                    -0.039394        0.628133   \n",
       "TrainingTimesLastYear                 1.000000       -0.007894   \n",
       "YearsAtCompany                       -0.007894        1.000000   \n",
       "YearsSinceLastPromotion               0.016121        0.618409   \n",
       "YearsWithCurrManager                 -0.013270        0.769212   \n",
       "\n",
       "                         YearsSinceLastPromotion  YearsWithCurrManager  \n",
       "Age                                     0.216513              0.202089  \n",
       "Attrition                              -0.033019             -0.156199  \n",
       "BusinessTravel                         -0.032591             -0.022636  \n",
       "Department                              0.014845              0.018016  \n",
       "DistanceFromHome                        0.002290              0.021584  \n",
       "Education                               0.022490              0.005358  \n",
       "EducationField                          0.048181              0.021664  \n",
       "EmployeeCount                                NaN                   NaN  \n",
       "Gender                                 -0.021812              0.004438  \n",
       "JobLevel                               -0.060811             -0.055251  \n",
       "JobRole                                -0.014635              0.010695  \n",
       "MaritalStatus                          -0.030915             -0.038570  \n",
       "MonthlyIncome                           0.065219              0.024304  \n",
       "NumCompaniesWorked                     -0.036814             -0.110319  \n",
       "PercentSalaryHike                      -0.029542             -0.040864  \n",
       "StandardHours                                NaN                   NaN  \n",
       "StockOptionLevel                        0.019063              0.017757  \n",
       "TotalWorkingYears                       0.404858              0.459188  \n",
       "TrainingTimesLastYear                   0.016121             -0.013270  \n",
       "YearsAtCompany                          0.618409              0.769212  \n",
       "YearsSinceLastPromotion                 1.000000              0.510224  \n",
       "YearsWithCurrManager                    0.510224              1.000000  \n",
       "\n",
       "[22 rows x 22 columns]"
      ]
     },
     "execution_count": 161,
     "metadata": {},
     "output_type": "execute_result"
    }
   ],
   "source": [
    "dataset3.corr()"
   ]
  },
  {
   "cell_type": "code",
   "execution_count": 162,
   "id": "035eb87e",
   "metadata": {},
   "outputs": [],
   "source": [
    "y=dataset3.Attrition"
   ]
  },
  {
   "cell_type": "code",
   "execution_count": 163,
   "id": "8c27f3fc",
   "metadata": {},
   "outputs": [],
   "source": [
    "X=dataset3[['Age', 'BusinessTravel', 'Department', 'DistanceFromHome',\n",
    "       'Education', 'EducationField', 'EmployeeCount', 'Gender', 'JobLevel',\n",
    "       'JobRole', 'MaritalStatus', 'MonthlyIncome', 'NumCompaniesWorked',\n",
    "       'PercentSalaryHike', 'StandardHours', 'StockOptionLevel',\n",
    "       'TotalWorkingYears', 'TrainingTimesLastYear', 'YearsAtCompany',\n",
    "       'YearsSinceLastPromotion', 'YearsWithCurrManager']]"
   ]
  },
  {
   "cell_type": "code",
   "execution_count": 164,
   "id": "42a134f9",
   "metadata": {},
   "outputs": [],
   "source": [
    "import statsmodels.api as sm"
   ]
  },
  {
   "cell_type": "code",
   "execution_count": 165,
   "id": "ac51971f",
   "metadata": {},
   "outputs": [
    {
     "name": "stderr",
     "output_type": "stream",
     "text": [
      "C:\\Users\\Sony VAIO\\anaconda3\\lib\\site-packages\\statsmodels\\tsa\\tsatools.py:142: FutureWarning: In a future version of pandas all arguments of concat except for the argument 'objs' will be keyword-only\n",
      "  x = pd.concat(x[::order], 1)\n"
     ]
    }
   ],
   "source": [
    "X1=sm.add_constant(X)"
   ]
  },
  {
   "cell_type": "code",
   "execution_count": 166,
   "id": "dacd777e",
   "metadata": {},
   "outputs": [],
   "source": [
    "single=sm.Logit(y,X1)"
   ]
  },
  {
   "cell_type": "code",
   "execution_count": 167,
   "id": "92dd772c",
   "metadata": {},
   "outputs": [
    {
     "name": "stdout",
     "output_type": "stream",
     "text": [
      "Optimization terminated successfully.\n",
      "         Current function value: 0.392756\n",
      "         Iterations 7\n"
     ]
    }
   ],
   "source": [
    "result=single.fit()"
   ]
  },
  {
   "cell_type": "code",
   "execution_count": 169,
   "id": "e36f1ef4",
   "metadata": {},
   "outputs": [
    {
     "data": {
      "text/html": [
       "<table class=\"simpletable\">\n",
       "<caption>Logit Regression Results</caption>\n",
       "<tr>\n",
       "  <th>Dep. Variable:</th>       <td>Attrition</td>    <th>  No. Observations:  </th>  <td>  1470</td>  \n",
       "</tr>\n",
       "<tr>\n",
       "  <th>Model:</th>                 <td>Logit</td>      <th>  Df Residuals:      </th>  <td>  1450</td>  \n",
       "</tr>\n",
       "<tr>\n",
       "  <th>Method:</th>                 <td>MLE</td>       <th>  Df Model:          </th>  <td>    19</td>  \n",
       "</tr>\n",
       "<tr>\n",
       "  <th>Date:</th>            <td>Thu, 21 Jul 2022</td> <th>  Pseudo R-squ.:     </th>  <td>0.1108</td>  \n",
       "</tr>\n",
       "<tr>\n",
       "  <th>Time:</th>                <td>09:18:17</td>     <th>  Log-Likelihood:    </th> <td> -577.35</td> \n",
       "</tr>\n",
       "<tr>\n",
       "  <th>converged:</th>             <td>True</td>       <th>  LL-Null:           </th> <td> -649.29</td> \n",
       "</tr>\n",
       "<tr>\n",
       "  <th>Covariance Type:</th>     <td>nonrobust</td>    <th>  LLR p-value:       </th> <td>3.295e-21</td>\n",
       "</tr>\n",
       "</table>\n",
       "<table class=\"simpletable\">\n",
       "<tr>\n",
       "             <td></td>                <th>coef</th>     <th>std err</th>      <th>z</th>      <th>P>|z|</th>  <th>[0.025</th>    <th>0.975]</th>  \n",
       "</tr>\n",
       "<tr>\n",
       "  <th>Age</th>                     <td>   -0.0306</td> <td>    0.023</td> <td>   -1.325</td> <td> 0.185</td> <td>   -0.076</td> <td>    0.015</td>\n",
       "</tr>\n",
       "<tr>\n",
       "  <th>BusinessTravel</th>          <td>   -0.0166</td> <td>    0.087</td> <td>   -0.191</td> <td> 0.849</td> <td>   -0.187</td> <td>    0.154</td>\n",
       "</tr>\n",
       "<tr>\n",
       "  <th>Department</th>              <td>   -0.2421</td> <td>      nan</td> <td>      nan</td> <td>   nan</td> <td>      nan</td> <td>      nan</td>\n",
       "</tr>\n",
       "<tr>\n",
       "  <th>DistanceFromHome</th>        <td>   -0.0014</td> <td>    0.010</td> <td>   -0.134</td> <td> 0.894</td> <td>   -0.021</td> <td>    0.019</td>\n",
       "</tr>\n",
       "<tr>\n",
       "  <th>Education</th>               <td>   -0.0625</td> <td>      nan</td> <td>      nan</td> <td>   nan</td> <td>      nan</td> <td>      nan</td>\n",
       "</tr>\n",
       "<tr>\n",
       "  <th>EducationField</th>          <td>   -0.0965</td> <td>    0.058</td> <td>   -1.665</td> <td> 0.096</td> <td>   -0.210</td> <td>    0.017</td>\n",
       "</tr>\n",
       "<tr>\n",
       "  <th>EmployeeCount</th>           <td>    0.0010</td> <td>      nan</td> <td>      nan</td> <td>   nan</td> <td>      nan</td> <td>      nan</td>\n",
       "</tr>\n",
       "<tr>\n",
       "  <th>Gender</th>                  <td>    0.0869</td> <td>    0.205</td> <td>    0.423</td> <td> 0.672</td> <td>   -0.315</td> <td>    0.489</td>\n",
       "</tr>\n",
       "<tr>\n",
       "  <th>JobLevel</th>                <td>   -0.0249</td> <td>    0.081</td> <td>   -0.308</td> <td> 0.758</td> <td>   -0.183</td> <td>    0.134</td>\n",
       "</tr>\n",
       "<tr>\n",
       "  <th>JobRole</th>                 <td>    0.0378</td> <td>      nan</td> <td>      nan</td> <td>   nan</td> <td>      nan</td> <td>      nan</td>\n",
       "</tr>\n",
       "<tr>\n",
       "  <th>MaritalStatus</th>           <td>    0.5885</td> <td>    0.117</td> <td>    5.025</td> <td> 0.000</td> <td>    0.359</td> <td>    0.818</td>\n",
       "</tr>\n",
       "<tr>\n",
       "  <th>MonthlyIncome</th>           <td>-1.868e-06</td> <td> 1.18e-06</td> <td>   -1.581</td> <td> 0.114</td> <td>-4.18e-06</td> <td> 4.47e-07</td>\n",
       "</tr>\n",
       "<tr>\n",
       "  <th>NumCompaniesWorked</th>      <td>    0.1184</td> <td>    0.047</td> <td>    2.508</td> <td> 0.012</td> <td>    0.026</td> <td>    0.211</td>\n",
       "</tr>\n",
       "<tr>\n",
       "  <th>PercentSalaryHike</th>       <td>    0.0117</td> <td>      nan</td> <td>      nan</td> <td>   nan</td> <td>      nan</td> <td>      nan</td>\n",
       "</tr>\n",
       "<tr>\n",
       "  <th>StandardHours</th>           <td>    0.0080</td> <td>      nan</td> <td>      nan</td> <td>   nan</td> <td>      nan</td> <td>      nan</td>\n",
       "</tr>\n",
       "<tr>\n",
       "  <th>StockOptionLevel</th>        <td>   -0.0645</td> <td>    0.071</td> <td>   -0.903</td> <td> 0.367</td> <td>   -0.204</td> <td>    0.075</td>\n",
       "</tr>\n",
       "<tr>\n",
       "  <th>TotalWorkingYears</th>       <td>   -0.0593</td> <td>    0.051</td> <td>   -1.167</td> <td> 0.243</td> <td>   -0.159</td> <td>    0.040</td>\n",
       "</tr>\n",
       "<tr>\n",
       "  <th>TrainingTimesLastYear</th>   <td>   -0.1465</td> <td>      nan</td> <td>      nan</td> <td>   nan</td> <td>      nan</td> <td>      nan</td>\n",
       "</tr>\n",
       "<tr>\n",
       "  <th>YearsAtCompany</th>          <td>    0.0136</td> <td>      nan</td> <td>      nan</td> <td>   nan</td> <td>      nan</td> <td>      nan</td>\n",
       "</tr>\n",
       "<tr>\n",
       "  <th>YearsSinceLastPromotion</th> <td>    0.1323</td> <td>      nan</td> <td>      nan</td> <td>   nan</td> <td>      nan</td> <td>      nan</td>\n",
       "</tr>\n",
       "<tr>\n",
       "  <th>YearsWithCurrManager</th>    <td>   -0.1396</td> <td>      nan</td> <td>      nan</td> <td>   nan</td> <td>      nan</td> <td>      nan</td>\n",
       "</tr>\n",
       "</table>"
      ],
      "text/plain": [
       "<class 'statsmodels.iolib.summary.Summary'>\n",
       "\"\"\"\n",
       "                           Logit Regression Results                           \n",
       "==============================================================================\n",
       "Dep. Variable:              Attrition   No. Observations:                 1470\n",
       "Model:                          Logit   Df Residuals:                     1450\n",
       "Method:                           MLE   Df Model:                           19\n",
       "Date:                Thu, 21 Jul 2022   Pseudo R-squ.:                  0.1108\n",
       "Time:                        09:18:17   Log-Likelihood:                -577.35\n",
       "converged:                       True   LL-Null:                       -649.29\n",
       "Covariance Type:            nonrobust   LLR p-value:                 3.295e-21\n",
       "===========================================================================================\n",
       "                              coef    std err          z      P>|z|      [0.025      0.975]\n",
       "-------------------------------------------------------------------------------------------\n",
       "Age                        -0.0306      0.023     -1.325      0.185      -0.076       0.015\n",
       "BusinessTravel             -0.0166      0.087     -0.191      0.849      -0.187       0.154\n",
       "Department                 -0.2421        nan        nan        nan         nan         nan\n",
       "DistanceFromHome           -0.0014      0.010     -0.134      0.894      -0.021       0.019\n",
       "Education                  -0.0625        nan        nan        nan         nan         nan\n",
       "EducationField             -0.0965      0.058     -1.665      0.096      -0.210       0.017\n",
       "EmployeeCount               0.0010        nan        nan        nan         nan         nan\n",
       "Gender                      0.0869      0.205      0.423      0.672      -0.315       0.489\n",
       "JobLevel                   -0.0249      0.081     -0.308      0.758      -0.183       0.134\n",
       "JobRole                     0.0378        nan        nan        nan         nan         nan\n",
       "MaritalStatus               0.5885      0.117      5.025      0.000       0.359       0.818\n",
       "MonthlyIncome           -1.868e-06   1.18e-06     -1.581      0.114   -4.18e-06    4.47e-07\n",
       "NumCompaniesWorked          0.1184      0.047      2.508      0.012       0.026       0.211\n",
       "PercentSalaryHike           0.0117        nan        nan        nan         nan         nan\n",
       "StandardHours               0.0080        nan        nan        nan         nan         nan\n",
       "StockOptionLevel           -0.0645      0.071     -0.903      0.367      -0.204       0.075\n",
       "TotalWorkingYears          -0.0593      0.051     -1.167      0.243      -0.159       0.040\n",
       "TrainingTimesLastYear      -0.1465        nan        nan        nan         nan         nan\n",
       "YearsAtCompany              0.0136        nan        nan        nan         nan         nan\n",
       "YearsSinceLastPromotion     0.1323        nan        nan        nan         nan         nan\n",
       "YearsWithCurrManager       -0.1396        nan        nan        nan         nan         nan\n",
       "===========================================================================================\n",
       "\"\"\""
      ]
     },
     "execution_count": 169,
     "metadata": {},
     "output_type": "execute_result"
    }
   ],
   "source": [
    "result.summary()"
   ]
  },
  {
   "cell_type": "code",
   "execution_count": 170,
   "id": "f0d28fc1",
   "metadata": {},
   "outputs": [],
   "source": [
    "from sklearn.ensemble import RandomForestClassifier"
   ]
  },
  {
   "cell_type": "code",
   "execution_count": 171,
   "id": "1476da92",
   "metadata": {},
   "outputs": [],
   "source": [
    "rf_model=RandomForestClassifier(n_estimators=1000,max_features=2,oob_score=True)"
   ]
  },
  {
   "cell_type": "code",
   "execution_count": 174,
   "id": "2f879377",
   "metadata": {},
   "outputs": [],
   "source": [
    "features=dataset3[['Age', 'BusinessTravel', 'Department', 'DistanceFromHome',\n",
    "       'Education', 'EducationField', 'EmployeeCount', 'Gender', 'JobLevel',\n",
    "       'JobRole', 'MaritalStatus', 'MonthlyIncome', 'NumCompaniesWorked',\n",
    "       'PercentSalaryHike', 'StandardHours', 'StockOptionLevel',\n",
    "       'TotalWorkingYears', 'TrainingTimesLastYear', 'YearsAtCompany',\n",
    "       'YearsSinceLastPromotion', 'YearsWithCurrManager']]"
   ]
  },
  {
   "cell_type": "code",
   "execution_count": 175,
   "id": "7e8710f0",
   "metadata": {},
   "outputs": [
    {
     "data": {
      "text/plain": [
       "RandomForestClassifier(max_features=2, n_estimators=1000, oob_score=True)"
      ]
     },
     "execution_count": 175,
     "metadata": {},
     "output_type": "execute_result"
    }
   ],
   "source": [
    "rf_model.fit(X=features,y=dataset3['Attrition'])"
   ]
  },
  {
   "cell_type": "code",
   "execution_count": 176,
   "id": "e70c1460",
   "metadata": {},
   "outputs": [
    {
     "name": "stdout",
     "output_type": "stream",
     "text": [
      "0.8428571428571429\n"
     ]
    }
   ],
   "source": [
    "print(rf_model.oob_score_)"
   ]
  },
  {
   "cell_type": "code",
   "execution_count": 179,
   "id": "5ba63e7c",
   "metadata": {},
   "outputs": [
    {
     "name": "stdout",
     "output_type": "stream",
     "text": [
      "Age 0.09648502790729403\n",
      "BusinessTravel 0.02741124559528726\n",
      "Department 0.02604260723264822\n",
      "DistanceFromHome 0.06802390740449014\n",
      "Education 0.0411967904794306\n",
      "EducationField 0.04119503857075686\n",
      "EmployeeCount 0.0\n",
      "Gender 0.01821841416712345\n",
      "JobLevel 0.03856089104262175\n",
      "JobRole 0.05495775901918095\n",
      "MaritalStatus 0.03987910907601974\n",
      "MonthlyIncome 0.09097770152438049\n",
      "NumCompaniesWorked 0.05659905581850816\n",
      "PercentSalaryHike 0.06557906419311417\n",
      "StandardHours 0.0\n",
      "StockOptionLevel 0.034104190744687374\n",
      "TotalWorkingYears 0.08596957712144546\n",
      "TrainingTimesLastYear 0.045022855299211954\n",
      "YearsAtCompany 0.07019169568247277\n",
      "YearsSinceLastPromotion 0.04419112898979451\n",
      "YearsWithCurrManager 0.05539394013153214\n"
     ]
    }
   ],
   "source": [
    "for feature,imp in zip(features,rf_model.feature_importances_):\n",
    "    print(feature,imp)"
   ]
  },
  {
   "cell_type": "code",
   "execution_count": 180,
   "id": "ccefd46b",
   "metadata": {},
   "outputs": [],
   "source": [
    "var=['Age','DistanceFromHome','MonthlyIncome','TotalWorkingYears']"
   ]
  },
  {
   "cell_type": "code",
   "execution_count": 182,
   "id": "4bcb3efa",
   "metadata": {},
   "outputs": [],
   "source": [
    "from sklearn import tree"
   ]
  },
  {
   "cell_type": "code",
   "execution_count": 186,
   "id": "152a3cad",
   "metadata": {},
   "outputs": [],
   "source": [
    "tree_model=tree.DecisionTreeClassifier(max_depth=8)"
   ]
  },
  {
   "cell_type": "code",
   "execution_count": 204,
   "id": "2fc1a62d",
   "metadata": {},
   "outputs": [],
   "source": [
    "predictors=pd.DataFrame([dataset3['Age'],dataset3['MonthlyIncome'],dataset3['TotalWorkingYears']]).T"
   ]
  },
  {
   "cell_type": "code",
   "execution_count": 205,
   "id": "eceeb210",
   "metadata": {},
   "outputs": [
    {
     "data": {
      "text/plain": [
       "DecisionTreeClassifier(max_depth=8)"
      ]
     },
     "execution_count": 205,
     "metadata": {},
     "output_type": "execute_result"
    }
   ],
   "source": [
    "tree_model.fit(X=predictors,y=dataset3['Attrition'])"
   ]
  },
  {
   "cell_type": "code",
   "execution_count": 206,
   "id": "63297adc",
   "metadata": {},
   "outputs": [],
   "source": [
    "with open(\"DT.dot\",\"w\") as f:\n",
    "    f=tree.export_graphviz(tree_model,feature_names=['Age','TotalWorkingYears','MonthlyIncome'],out_file=f)"
   ]
  },
  {
   "cell_type": "code",
   "execution_count": 207,
   "id": "8677af90",
   "metadata": {},
   "outputs": [
    {
     "data": {
      "text/plain": [
       "0.8850340136054422"
      ]
     },
     "execution_count": 207,
     "metadata": {},
     "output_type": "execute_result"
    }
   ],
   "source": [
    "tree_model.score(X=predictors,y=dataset3['Attrition'])"
   ]
  },
  {
   "cell_type": "code",
   "execution_count": null,
   "id": "1003c084",
   "metadata": {},
   "outputs": [],
   "source": []
  }
 ],
 "metadata": {
  "kernelspec": {
   "display_name": "Python 3 (ipykernel)",
   "language": "python",
   "name": "python3"
  },
  "language_info": {
   "codemirror_mode": {
    "name": "ipython",
    "version": 3
   },
   "file_extension": ".py",
   "mimetype": "text/x-python",
   "name": "python",
   "nbconvert_exporter": "python",
   "pygments_lexer": "ipython3",
   "version": "3.9.12"
  }
 },
 "nbformat": 4,
 "nbformat_minor": 5
}
